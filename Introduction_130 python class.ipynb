{
 "cells": [
  {
   "cell_type": "markdown",
   "metadata": {
    "id": "w6LWoqXcN4Hm"
   },
   "source": [
    "# Today's Agenda\n",
    "> ### What is Jupyter Notebook?\n",
    "> ### How to Use Jupyter Notebook?\n",
    "> ### Short cuts in Jupyter Notebook!\n",
    "> ### What is Python?\n",
    "> ### What is Variable?\n",
    "> ### What is datatype?\n",
    "> ### Whar are Literals?\n",
    "> ### Whar is Operator?"
   ]
  },
  {
   "cell_type": "markdown",
   "metadata": {
    "id": "JfaqoMyoN4Hs"
   },
   "source": [
    "# What is Jupyter?\n",
    "Jupyter is an IDE typically used to develop data analysis and data science solutions. Jupyter, in its early days was called IPython(Hence the extension - ipynb) but it was changed to Jupyter to reflect the inclusion of support for other programming languages. It actually provides support for 40+ languages. The name Jupyter is an amalgamation of the major programming languages it supports - `JUlia PYTon E R`"
   ]
  },
  {
   "cell_type": "markdown",
   "metadata": {
    "id": "sIuCdDDfN4Ht"
   },
   "source": [
    "### Reason to use Jupyter\n",
    "There are two major reasons we're using Jupyter over other IDEs\n",
    "- Jupyter has the provision to include rich media(images, hyperlinks, plots, graphs, audio, text formatting etc..)\n",
    "- Debugging in Jupyter is much more easier compared to other IDEs/Editors"
   ]
  },
  {
   "cell_type": "markdown",
   "metadata": {
    "id": "XHjd_VS_N4Hu"
   },
   "source": [
    "# Few keyboard shortcuts:\n",
    "- `Esc` + `M`: Convert a coding cell into markdown\n",
    "- `Esc` + `Y`: Convert a markdown cell into the code mode\n",
    "- `Shift` + `Enter`: To execute/run the current cell\n",
    "- `Esc` + `A`: To add a new cell atop the current cell\n",
    "- `Esc` + `B`: To add a new cell below the current cell\n",
    "- `Esc` + `DD`: To delete the current cell"
   ]
  },
  {
   "cell_type": "code",
   "execution_count": null,
   "metadata": {
    "colab": {
     "base_uri": "https://localhost:8080/"
    },
    "id": "thd348-dPMTj",
    "outputId": "8e20116f-f24c-43fe-a8cd-7bb2dfc8569a"
   },
   "outputs": [
    {
     "data": {
      "text/plain": [
       "11"
      ]
     },
     "execution_count": 1,
     "metadata": {},
     "output_type": "execute_result"
    }
   ],
   "source": [
    "5+6"
   ]
  },
  {
   "cell_type": "markdown",
   "metadata": {
    "id": "dGzieSv1N4Hu"
   },
   "source": [
    "# Headings\n",
    "Headings are important in documents as they lead the reader in on what is the topic being dealt. Jupyter makes use of Hashes(#) to indicate Headings.\n",
    "\n",
    "Syntax:\n",
    "    #s text"
   ]
  },
  {
   "cell_type": "markdown",
   "metadata": {
    "id": "woHXFt57N4Hv"
   },
   "source": [
    "# Heading Style 1\n",
    "## Heading Style 2\n",
    "### H3\n",
    "#### H4\n",
    "##### H5\n",
    "###### H6"
   ]
  },
  {
   "cell_type": "markdown",
   "metadata": {
    "id": "DTckPy4IN4Hw"
   },
   "source": [
    "# Blockquote\n",
    "Blockquotes can be considered as sub-articles or specialized sections in the article where terms which need further explanantion are explained.\n",
    "\n",
    "Syntax:\n",
    "\n",
    "    > This is an example of a blockquote"
   ]
  },
  {
   "cell_type": "markdown",
   "metadata": {
    "id": "K5IYFxWdN4Hx"
   },
   "source": [
    "Line1  \n",
    "Line2  \n",
    "> Term1  \n",
    "\n",
    "Line3  \n",
    "Line4  \n",
    "Line5  \n",
    "> Term21  \n",
    "> Term22\n",
    "\n",
    "Line6"
   ]
  },
  {
   "cell_type": "markdown",
   "metadata": {
    "id": "pvsH6RNMN4Hy"
   },
   "source": [
    "# Text Highlighting\n",
    "Text in jupyter can be highlighted by enclosing it in backticks(`)"
   ]
  },
  {
   "cell_type": "markdown",
   "metadata": {
    "id": "SqQmS23VN4Hz"
   },
   "source": [
    "The total price of the item is `Rs.499(This part is higlighted)`"
   ]
  },
  {
   "cell_type": "markdown",
   "metadata": {
    "id": "fZrYSjBDN4H0"
   },
   "source": [
    "# Horizontal Rule\n",
    "Line breaks are used to demark different sections in the document. Include three consecutive hyphens in a line of their own to give a horizontal rule"
   ]
  },
  {
   "cell_type": "markdown",
   "metadata": {
    "id": "vq-iI-oyN4H0"
   },
   "source": [
    "line11  \n",
    "line12   \n",
    "\n",
    "---\n",
    "\n",
    "line21\n",
    "\n",
    "---\n",
    "\n",
    "line31  \n",
    "line32  \n",
    "line33"
   ]
  },
  {
   "cell_type": "markdown",
   "metadata": {
    "id": "JIngVJOpN4H1"
   },
   "source": [
    "# Text emphasis\n",
    "We can emphasize a text in jupyter by either putting it in bold or italics\n",
    "\n",
    "**Bold statement** is bolded and *italics* is italicized\n",
    "\n",
    "***bold and italic***"
   ]
  },
  {
   "cell_type": "markdown",
   "metadata": {
    "id": "OoDKuAkNN4H1"
   },
   "source": [
    "# Lists\n",
    "Lists are collections which help us stay organised. There are two kinds of lists:\n",
    "- Ordered list\n",
    "- Unordered list"
   ]
  },
  {
   "cell_type": "markdown",
   "metadata": {
    "id": "0Di7NUoGN4H2"
   },
   "source": [
    "### Unordered lists\n",
    "Unordered lists are collections of items where the ordering isn't important. We can put either `+`, `-` or `*` before an item to indicate that it belongs to an unordered list"
   ]
  },
  {
   "cell_type": "markdown",
   "metadata": {
    "id": "0PMGgPY6N4H2"
   },
   "source": [
    "- item1\n",
    "- item2\n",
    "+ item3\n",
    "+ item4\n",
    "* item5\n",
    "* item6"
   ]
  },
  {
   "cell_type": "markdown",
   "metadata": {
    "id": "izrvoMcIN4H3"
   },
   "source": [
    "### Ordered lists\n",
    "Ordered lists are collections of items where the ordering is important. We have to give a number followed by a full-stop to indicate that it's an ordered list"
   ]
  },
  {
   "cell_type": "markdown",
   "metadata": {
    "id": "s2uztrugN4H3"
   },
   "source": [
    "1. item1\n",
    "2. item2\n",
    "3. item3\n",
    "4. item4\n",
    "5. 5th one"
   ]
  },
  {
   "cell_type": "markdown",
   "metadata": {
    "id": "qXiURwcCN4H3"
   },
   "source": [
    "# Hypertext\n",
    "Hypertext is a text on internet which when clicked upon redirects us to a new web page\n",
    "\n",
    "Syntax:\n",
    "\n",
    "    [Text](url *tooltip)"
   ]
  },
  {
   "cell_type": "markdown",
   "metadata": {
    "id": "vCj9UGRyN4H4"
   },
   "source": [
    "Click [this](https://www.wikipedia.org/ \"Go to Wiki\") to go to the Wikipedia homepage"
   ]
  },
  {
   "cell_type": "markdown",
   "metadata": {
    "id": "D0Eqc4yFhp7r"
   },
   "source": [
    "[This](https://www.google.co.in/ \"go to google homepage\") takes me to google"
   ]
  },
  {
   "cell_type": "markdown",
   "metadata": {
    "id": "aAH-cH8iN4H4"
   },
   "source": [
    "### Image\n",
    "\n",
    "![Innomatics](https://miro.medium.com/max/2560/1*4oRB4tZrc4OLUeoc-p4wKQ.png)"
   ]
  },
  {
   "cell_type": "markdown",
   "metadata": {
    "id": "eCHesxfUjf3S"
   },
   "source": [
    "![Dog](data:image/jpeg;base64,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)"
   ]
  },
  {
   "cell_type": "raw",
   "metadata": {
    "id": "gCu85WluN4H4"
   },
   "source": [
    "### Image\n",
    "#### code for import the image into jupyter notebook\n",
    "\n",
    "![Innomatics](https://miro.medium.com/max/2560/1*4oRB4tZrc4OLUeoc-p4wKQ.png)"
   ]
  },
  {
   "cell_type": "code",
   "execution_count": null,
   "metadata": {
    "id": "a0qGzhQ7N4H5"
   },
   "outputs": [],
   "source": []
  },
  {
   "cell_type": "code",
   "execution_count": null,
   "metadata": {
    "id": "nwhMH84PN4H6"
   },
   "outputs": [],
   "source": []
  },
  {
   "cell_type": "markdown",
   "metadata": {
    "id": "HxFtFvlON4H6"
   },
   "source": [
    "# What is python?\n",
    "- Python is an interpreted, high-level, multipurpose programming language. The version of python we'll using is python 3"
   ]
  },
  {
   "cell_type": "markdown",
   "metadata": {
    "id": "AfihLqStN4H7"
   },
   "source": [
    "### Some interesting aspects in python:\n",
    "- Python is a great language to start programming with because of it's ease of use and its english-like syntax\n",
    "- Python uses indentations to define scope whereas other programming languges might use flower brackets\n",
    "- Python uses new lines to indicate the end of line in a program instead of using semi colons"
   ]
  },
  {
   "cell_type": "markdown",
   "metadata": {
    "id": "aroJgfURN4H7"
   },
   "source": [
    "# Why do we use Python?\n",
    "Python and R are the two most ubiquitous languages used in data secience. Python wins over R in the sense that python can be scaled up with data while that's not possible with R. One more win for python is that , python provides us with many libraries and modules to handle data and work with many kinds of machine learning algorithms. Python can handle auditory, visual, textual kinds of information, to name a few. It also provides extensive support for deep learning"
   ]
  },
  {
   "cell_type": "markdown",
   "metadata": {
    "id": "7SOecCDbN4H7"
   },
   "source": [
    "# Literals and Variables\n",
    "\n",
    "### Literals\n",
    "A literal is nothing but a data types which conveys information. there are many kinds of literals in python where the four main datatypes are:\n",
    "- integral values: `int`\n",
    "- decimal values: `float`\n",
    "- true or false statements: `bool`\n",
    "- text data: `str`   \n",
    "Apart from these, there are many other datas type which we'll we looking at later"
   ]
  },
  {
   "cell_type": "markdown",
   "metadata": {
    "id": "EBPcBYUON4H8"
   },
   "source": [
    "### Variable\n",
    "Variables are nothing but place holders to store the literal values. Variables can be accessed by their names and some rules have to be followed while naming variables"
   ]
  },
  {
   "cell_type": "markdown",
   "metadata": {
    "id": "JlWXjN5MN4H8"
   },
   "source": [
    "Naming conventions for variables:\n",
    "- A variable name can only contain alphabets, numbers and under score\n",
    "- A variable name can only start with an underscore or an alphabet\n",
    "- A variable name can't be the same as any keyword(keywords are sequences of characters which have some special meaning to them)\n",
    "- A variable name can't have any spaces between the various parts of the variable. If we want to distinguish them, we can use and underscore or make the variable name CamelCase\n",
    "> variable_name\n",
    "> VariableName\n",
    "- It is suggested that we make our variable names as descriptive as possible\n",
    "> a = 21\n",
    "> age = 21"
   ]
  },
  {
   "cell_type": "markdown",
   "metadata": {
    "id": "QRVWBc6zN4H8"
   },
   "source": [
    "Storing a literal into a variable is called as assigning the variable with a literal and is accomplished using the equality(`=`) symbol"
   ]
  },
  {
   "cell_type": "code",
   "execution_count": null,
   "metadata": {
    "id": "ODKf9P47N4H8"
   },
   "outputs": [],
   "source": [
    "#Variable declaration\n",
    "a = 10\n",
    "b = 3.14\n",
    "c = True\n",
    "d = 'Hello'\n",
    "e = [1,2,3]\n",
    "f = {1,2,3}\n",
    "g = (1,2,3)\n",
    "h = {\"a\":1,\"b\":2,\"c\":3}"
   ]
  },
  {
   "cell_type": "code",
   "execution_count": null,
   "metadata": {
    "colab": {
     "base_uri": "https://localhost:8080/"
    },
    "id": "MJ6OmeA6mnAe",
    "outputId": "b4d28785-e7a4-4e01-bec8-b10683a91c63"
   },
   "outputs": [
    {
     "data": {
      "text/plain": [
       "dict"
      ]
     },
     "execution_count": 16,
     "metadata": {},
     "output_type": "execute_result"
    }
   ],
   "source": [
    "type(h)"
   ]
  },
  {
   "cell_type": "code",
   "execution_count": null,
   "metadata": {
    "colab": {
     "base_uri": "https://localhost:8080/"
    },
    "id": "Jfoh3bN6medC",
    "outputId": "adcd98e6-9053-4a0f-f536-8f96246b3da9"
   },
   "outputs": [
    {
     "data": {
      "text/plain": [
       "tuple"
      ]
     },
     "execution_count": 15,
     "metadata": {},
     "output_type": "execute_result"
    }
   ],
   "source": [
    "type(g)"
   ]
  },
  {
   "cell_type": "code",
   "execution_count": null,
   "metadata": {
    "colab": {
     "base_uri": "https://localhost:8080/"
    },
    "id": "qIG8meMjN4H9",
    "outputId": "3c21a213-7dd7-4770-8c7e-83226dbf29b1"
   },
   "outputs": [
    {
     "data": {
      "text/plain": [
       "int"
      ]
     },
     "execution_count": 3,
     "metadata": {},
     "output_type": "execute_result"
    }
   ],
   "source": [
    "type(a)"
   ]
  },
  {
   "cell_type": "code",
   "execution_count": null,
   "metadata": {
    "colab": {
     "base_uri": "https://localhost:8080/",
     "height": 53
    },
    "id": "y2kq053JN4H_",
    "outputId": "0e45af10-11ed-49bb-c4f5-469731b7642e"
   },
   "outputs": [
    {
     "data": {
      "application/vnd.google.colaboratory.intrinsic+json": {
       "type": "string"
      },
      "text/plain": [
       "'\\ncomments are a great way to include notes in code.\\nPython uses hashes to indicate comments\\nMulti line comments are also given using hashes\\n'"
      ]
     },
     "execution_count": 4,
     "metadata": {},
     "output_type": "execute_result"
    }
   ],
   "source": [
    "\"\"\"\n",
    "comments are a great way to include notes in code.\n",
    "Python uses hashes to indicate comments\n",
    "Multi line comments are also given using hashes\n",
    "\"\"\""
   ]
  },
  {
   "cell_type": "code",
   "execution_count": null,
   "metadata": {
    "colab": {
     "base_uri": "https://localhost:8080/"
    },
    "id": "umqVDKVkN4H_",
    "outputId": "cbb22451-2613-4aa9-fc6d-c014acc36c25"
   },
   "outputs": [
    {
     "data": {
      "text/plain": [
       "int"
      ]
     },
     "execution_count": 5,
     "metadata": {},
     "output_type": "execute_result"
    }
   ],
   "source": [
    "# to look at the data type of a variable, use the method type()\n",
    "type(a)"
   ]
  },
  {
   "cell_type": "code",
   "execution_count": null,
   "metadata": {
    "colab": {
     "base_uri": "https://localhost:8080/"
    },
    "id": "vqUzNtsPN4IA",
    "outputId": "c8032a94-b3e2-4430-e1df-0396ba99f41b"
   },
   "outputs": [
    {
     "data": {
      "text/plain": [
       "bool"
      ]
     },
     "execution_count": 8,
     "metadata": {},
     "output_type": "execute_result"
    }
   ],
   "source": [
    "type(c)"
   ]
  },
  {
   "cell_type": "code",
   "execution_count": null,
   "metadata": {
    "colab": {
     "base_uri": "https://localhost:8080/"
    },
    "id": "VlD6KhS8mAzT",
    "outputId": "f0c51e07-c0ad-4a6b-d2b2-3709b131a296"
   },
   "outputs": [
    {
     "data": {
      "text/plain": [
       "str"
      ]
     },
     "execution_count": 9,
     "metadata": {},
     "output_type": "execute_result"
    }
   ],
   "source": [
    "type(d)"
   ]
  },
  {
   "cell_type": "code",
   "execution_count": null,
   "metadata": {
    "colab": {
     "base_uri": "https://localhost:8080/"
    },
    "id": "tBkEwq65mD73",
    "outputId": "4f44a746-4d97-4941-df47-023fb477970d"
   },
   "outputs": [
    {
     "data": {
      "text/plain": [
       "list"
      ]
     },
     "execution_count": 10,
     "metadata": {},
     "output_type": "execute_result"
    }
   ],
   "source": [
    "type(e)"
   ]
  },
  {
   "cell_type": "code",
   "execution_count": null,
   "metadata": {
    "colab": {
     "base_uri": "https://localhost:8080/"
    },
    "id": "4hOt78w2mLcL",
    "outputId": "6cb42afe-7fb7-47d5-9706-f7329c38b2a8"
   },
   "outputs": [
    {
     "data": {
      "text/plain": [
       "set"
      ]
     },
     "execution_count": 13,
     "metadata": {},
     "output_type": "execute_result"
    }
   ],
   "source": [
    "type(f)"
   ]
  },
  {
   "cell_type": "code",
   "execution_count": null,
   "metadata": {
    "id": "p_gD9NesN4IA"
   },
   "outputs": [],
   "source": [
    "# to initialise different variables with different values in the same line\n",
    "a, b, c = 10, 20, 30"
   ]
  },
  {
   "cell_type": "code",
   "execution_count": null,
   "metadata": {
    "colab": {
     "base_uri": "https://localhost:8080/"
    },
    "id": "jpLicZ1BUQTw",
    "outputId": "8acff523-b6f3-429a-befe-a70859577941"
   },
   "outputs": [
    {
     "data": {
      "text/plain": [
       "30"
      ]
     },
     "execution_count": 18,
     "metadata": {},
     "output_type": "execute_result"
    }
   ],
   "source": [
    "c"
   ]
  },
  {
   "cell_type": "code",
   "execution_count": null,
   "metadata": {
    "colab": {
     "base_uri": "https://localhost:8080/",
     "height": 205
    },
    "id": "PLyL-zijN4IB",
    "outputId": "f9b1f458-88c3-439f-eb24-6f1782dfe82c"
   },
   "outputs": [
    {
     "ename": "ValueError",
     "evalue": "ignored",
     "output_type": "error",
     "traceback": [
      "\u001b[0;31m---------------------------------------------------------------------------\u001b[0m",
      "\u001b[0;31mValueError\u001b[0m                                Traceback (most recent call last)",
      "\u001b[0;32m<ipython-input-19-a8b0e18dce34>\u001b[0m in \u001b[0;36m<module>\u001b[0;34m()\u001b[0m\n\u001b[1;32m      1\u001b[0m \u001b[0;31m# whenever we're trying to store literals to variables in the same, the number\u001b[0m\u001b[0;34m\u001b[0m\u001b[0;34m\u001b[0m\u001b[0;34m\u001b[0m\u001b[0m\n\u001b[1;32m      2\u001b[0m \u001b[0;31m# of literals should match with the number of variables\u001b[0m\u001b[0;34m\u001b[0m\u001b[0;34m\u001b[0m\u001b[0;34m\u001b[0m\u001b[0m\n\u001b[0;32m----> 3\u001b[0;31m \u001b[0ma\u001b[0m\u001b[0;34m,\u001b[0m \u001b[0mb\u001b[0m\u001b[0;34m,\u001b[0m \u001b[0mc\u001b[0m \u001b[0;34m=\u001b[0m \u001b[0;36m1\u001b[0m\u001b[0;34m,\u001b[0m \u001b[0;36m2\u001b[0m\u001b[0;34m\u001b[0m\u001b[0;34m\u001b[0m\u001b[0m\n\u001b[0m",
      "\u001b[0;31mValueError\u001b[0m: not enough values to unpack (expected 3, got 2)"
     ]
    }
   ],
   "source": [
    "# whenever we're trying to store literals to variables in the same, the number\n",
    "# of literals should match with the number of variables\n",
    "a, b, c = 1, 2"
   ]
  },
  {
   "cell_type": "code",
   "execution_count": null,
   "metadata": {
    "id": "3OIFqSQ3N4IB"
   },
   "outputs": [],
   "source": [
    "# initialising different variables with the same value\n",
    "a = b = c = False"
   ]
  },
  {
   "cell_type": "code",
   "execution_count": null,
   "metadata": {
    "colab": {
     "base_uri": "https://localhost:8080/"
    },
    "id": "keMMYG_iN4IB",
    "outputId": "d25231a1-b95c-4188-87c1-9b2b31709126"
   },
   "outputs": [
    {
     "data": {
      "text/plain": [
       "False"
      ]
     },
     "execution_count": 21,
     "metadata": {},
     "output_type": "execute_result"
    }
   ],
   "source": [
    "a"
   ]
  },
  {
   "cell_type": "code",
   "execution_count": null,
   "metadata": {
    "colab": {
     "base_uri": "https://localhost:8080/"
    },
    "id": "x3RTbF-HN4IC",
    "outputId": "d3cef888-d815-4f02-d71e-cd6e39be7a09"
   },
   "outputs": [
    {
     "data": {
      "text/plain": [
       "False"
      ]
     },
     "execution_count": 22,
     "metadata": {},
     "output_type": "execute_result"
    }
   ],
   "source": [
    "b"
   ]
  },
  {
   "cell_type": "code",
   "execution_count": null,
   "metadata": {
    "colab": {
     "base_uri": "https://localhost:8080/"
    },
    "id": "6WGycib6N4IC",
    "outputId": "6afca132-e907-4e44-d4a5-6bc1a676aa48"
   },
   "outputs": [
    {
     "data": {
      "text/plain": [
       "False"
      ]
     },
     "execution_count": 23,
     "metadata": {},
     "output_type": "execute_result"
    }
   ],
   "source": [
    "c"
   ]
  },
  {
   "cell_type": "markdown",
   "metadata": {
    "id": "rfXrHxd5N4IC"
   },
   "source": [
    "### In python, variables don't need to be declared(we don't need to say what kind of a variable it should hold) and they can change type and values mid-way"
   ]
  },
  {
   "cell_type": "code",
   "execution_count": null,
   "metadata": {
    "id": "oxgVuZ86N4ID",
    "outputId": "8ae6432e-49af-4d63-8d83-0a23149563da"
   },
   "outputs": [
    {
     "name": "stdout",
     "output_type": "stream",
     "text": [
      "<class 'int'>\n",
      "<class 'bool'>\n"
     ]
    }
   ],
   "source": []
  },
  {
   "cell_type": "code",
   "execution_count": null,
   "metadata": {
    "id": "E3D6J1xqN4ID"
   },
   "outputs": [],
   "source": []
  },
  {
   "cell_type": "markdown",
   "metadata": {
    "id": "fSFGUAOUN4IE"
   },
   "source": [
    "# First Python Program"
   ]
  },
  {
   "cell_type": "code",
   "execution_count": null,
   "metadata": {
    "colab": {
     "base_uri": "https://localhost:8080/"
    },
    "id": "fAtIfF8_N4IE",
    "outputId": "c86c78f4-a7e2-4810-f719-e520a2764e5b"
   },
   "outputs": [
    {
     "name": "stdout",
     "output_type": "stream",
     "text": [
      "Hello World!\n",
      "Its great to start learning python\n"
     ]
    }
   ],
   "source": [
    "# Display two messages\n",
    "print(\"Hello World!\")\n",
    "print(\"Its great to start learning python\")"
   ]
  },
  {
   "cell_type": "markdown",
   "metadata": {
    "id": "jLwsI7whN4IE"
   },
   "source": [
    "### Some of the rules in python\n",
    "**Indentation matters in Python.** Note that the statements are entered from the first column in the new line. The Python interpreter will report an error if the program is typed as follows:\n",
    "\n",
    "\tprint(\"Welcome to Python\")\n",
    "print(\"Python is fun\")\n",
    "\n",
    "**Don’t put any punctuation at the end of a statement**. For example, the Python interpreter will report errors for the following code:\n",
    "\n",
    "print(\"Welcome to Python\").\n",
    "print(\"Python is fun\"),\n",
    "\n",
    "**Python programs are case sensitive.** It would be wrong, for example, to replace print in the program with Print."
   ]
  },
  {
   "cell_type": "markdown",
   "metadata": {
    "id": "uV7f7PciN4IF"
   },
   "source": [
    "# Writing comments in python\n",
    "Comment is not a python statement and thus is ignored by python interpreter. But, it is plain text that documents what the program is and how it is constructed.\n",
    "\n",
    "It is always good to write a comment that describes purpose of each statement included in a program.\n",
    "\n",
    "It increases readability of the program.\n",
    "\n",
    "In Python, one can write comments as:\n",
    "1. Single line comment starting with a pound (#) sign\n",
    "2. Paragraph comment that starts and ends with three consecutive single quotes (''') or three consecutive double quotes (\"\"\")."
   ]
  },
  {
   "cell_type": "code",
   "execution_count": null,
   "metadata": {
    "id": "-1W4P5g3N4IF",
    "outputId": "a12f1ece-27c7-4990-c47a-6ccb1233b35f"
   },
   "outputs": [
    {
     "name": "stdout",
     "output_type": "stream",
     "text": [
      "Hello world!\n"
     ]
    }
   ],
   "source": [
    "#This statement prints hello world\n",
    "print(\"Hello world!\")"
   ]
  },
  {
   "cell_type": "code",
   "execution_count": null,
   "metadata": {
    "colab": {
     "base_uri": "https://localhost:8080/"
    },
    "id": "dYNmqECWN4IF",
    "outputId": "18b4309e-ad55-4547-aae2-503282125360"
   },
   "outputs": [
    {
     "name": "stdout",
     "output_type": "stream",
     "text": [
      "Johny Johny Yes Papa\n",
      "Eating sugar no papa\n",
      "Telling lies no papa\n",
      "Open your mouth ha ha ha\n"
     ]
    }
   ],
   "source": [
    "\"\"\"\n",
    "Paragraph comment that starts and ends with three \n",
    "consecutive single quotes (''') or \n",
    "three consecutive double quotes.\n",
    "\"\"\"\n",
    "print(\"Johny Johny Yes Papa\")\n",
    "print(\"Eating sugar no papa\")\n",
    "print(\"Telling lies no papa\")\n",
    "print(\"Open your mouth ha ha ha\")"
   ]
  },
  {
   "cell_type": "markdown",
   "metadata": {
    "id": "Gnq0cyFlN4IG"
   },
   "source": [
    "# Python Keywords\n",
    "**Keywords are the pre-defined or built-in words whose meaning is already known to python interpreter.**"
   ]
  },
  {
   "cell_type": "markdown",
   "metadata": {
    "id": "OdGP6DuwN4IG"
   },
   "source": [
    "Keywords are the reserved words in python\n",
    "\n",
    "We can't use a keyword as variable name, function name or any other identifier\n",
    "\n",
    "All the keywords except True, False and None are in lowercase and they must be written as is. "
   ]
  },
  {
   "cell_type": "code",
   "execution_count": null,
   "metadata": {
    "colab": {
     "base_uri": "https://localhost:8080/"
    },
    "id": "-JzF_J9tN4IG",
    "outputId": "06c1a46a-aee5-4e1f-9fa7-8cb65ef161af"
   },
   "outputs": [
    {
     "name": "stdout",
     "output_type": "stream",
     "text": [
      "['False', 'None', 'True', 'and', 'as', 'assert', 'async', 'await', 'break', 'class', 'continue', 'def', 'del', 'elif', 'else', 'except', 'finally', 'for', 'from', 'global', 'if', 'import', 'in', 'is', 'lambda', 'nonlocal', 'not', 'or', 'pass', 'raise', 'return', 'try', 'while', 'with', 'yield']\n",
      "Total number of keywords  35\n"
     ]
    }
   ],
   "source": [
    "#Get all keywords in python 3.6\n",
    "\n",
    "import keyword\n",
    "\n",
    "print(keyword.kwlist)\n",
    "\n",
    "print(\"Total number of keywords \", len(keyword.kwlist))"
   ]
  },
  {
   "cell_type": "markdown",
   "metadata": {
    "id": "sOmkcVmPN4IG"
   },
   "source": [
    "# Identifiers\n",
    "**Identifiers are the user-defined names given to various program elements such as variable, function, class...etc.**"
   ]
  },
  {
   "cell_type": "markdown",
   "metadata": {
    "id": "cxTayX_wN4IG"
   },
   "source": [
    "**Rules for Writing Identifiers:**\n",
    "\n",
    "1. Identifiers can be a combination of letters in lowercase (a to z) or uppercase (A to Z) or digits (0 to 9) or an underscore (_).\n",
    "\n",
    "2. An identifier cannot start with a digit. 1variable is invalid, but variable1 is perfectly fine.\n",
    "\n",
    "3. Keywords cannot be used as identifiers.\n",
    "\n",
    "4. No special symbol can be used\n",
    "\n",
    "5. An identifier can be of any length.\n",
    "\n",
    "**Note**: \n",
    "* Python is a case-sensitive language. This means, the identifiers amount, AMOUNT, and aMouNT are not the same. \n",
    "* Always name identifiers that make sense. For example, num is meaningful compared to x\n",
    "* Multiple words can be separated using an underscore. Ex.,compound_interest\n",
    "* We can also use camel-case style of writing, i.e., capitalize every first letter of the word except the initial word without any spaces. For example: camelCaseExample\n"
   ]
  },
  {
   "cell_type": "markdown",
   "metadata": {
    "id": "vGhOnYqfN4IH"
   },
   "source": [
    "### Note: 2.\n",
    "Python is dynamically typed language. i.e., a variable can hold different types of literals at different times. This is not possible with static-typed languages like C, C++ and Java."
   ]
  },
  {
   "cell_type": "code",
   "execution_count": null,
   "metadata": {
    "id": "FqWKkLgKN4II",
    "outputId": "8d246f40-aca7-4534-8e5c-4165132701e9"
   },
   "outputs": [
    {
     "name": "stdout",
     "output_type": "stream",
     "text": [
      "<class 'int'>\n",
      "<class 'float'>\n",
      "<class 'bool'>\n",
      "<class 'str'>\n"
     ]
    }
   ],
   "source": [
    "a=10\n",
    "print(type(a))\n",
    "\n",
    "a=23.45\n",
    "print(type(a))\n",
    "\n",
    "a=True\n",
    "print(type(a))\n",
    "\n",
    "a='Hello'\n",
    "print(type(a))"
   ]
  },
  {
   "cell_type": "markdown",
   "metadata": {
    "id": "JoxjThs6N4II"
   },
   "source": [
    "### Note: 3.\n",
    "In Python, multiple variables are assigned with corresponding values within single assignment statement."
   ]
  },
  {
   "cell_type": "code",
   "execution_count": null,
   "metadata": {
    "id": "kNoYpqYZN4II",
    "outputId": "4c03ac33-97c8-4a71-b04a-15ef42ed4af4"
   },
   "outputs": [
    {
     "name": "stdout",
     "output_type": "stream",
     "text": [
      "45\n",
      "67\n",
      "99\n"
     ]
    }
   ],
   "source": [
    "a,b,c=45,67,99\n",
    "print(a)\n",
    "print(b)\n",
    "print(c)"
   ]
  },
  {
   "cell_type": "code",
   "execution_count": null,
   "metadata": {
    "colab": {
     "base_uri": "https://localhost:8080/"
    },
    "id": "NPNUCrWnN4II",
    "outputId": "0ac8c798-b998-412f-c65a-79c525f36a78"
   },
   "outputs": [
    {
     "name": "stdout",
     "output_type": "stream",
     "text": [
      "10 20\n",
      "20 10\n"
     ]
    }
   ],
   "source": [
    "a,b=10,20\n",
    "print(a,b)\n",
    "b,a=a,b\n",
    "print(a,b)"
   ]
  },
  {
   "cell_type": "code",
   "execution_count": null,
   "metadata": {
    "colab": {
     "base_uri": "https://localhost:8080/"
    },
    "id": "1YDvuuQbN4IJ",
    "outputId": "8cd5d600-a2f4-442d-9ce9-9057754ea5d6"
   },
   "outputs": [
    {
     "name": "stdout",
     "output_type": "stream",
     "text": [
      "20 10\n"
     ]
    }
   ],
   "source": [
    "# Number Swaping \n",
    "a,b=10,20\n",
    "temp=a\n",
    "a=b\n",
    "b=temp\n",
    "print(a,b)"
   ]
  },
  {
   "cell_type": "markdown",
   "metadata": {
    "id": "iy15dP0BN4IJ"
   },
   "source": [
    "### Note: 4. Type Conversion\n",
    "You can convert one variable type to another type using type(value)"
   ]
  },
  {
   "cell_type": "code",
   "execution_count": null,
   "metadata": {
    "colab": {
     "base_uri": "https://localhost:8080/"
    },
    "id": "3RYOGrR-N4IJ",
    "outputId": "dda90f40-daa6-4820-c427-aaaaf037ebc3"
   },
   "outputs": [
    {
     "data": {
      "text/plain": [
       "23"
      ]
     },
     "execution_count": 1,
     "metadata": {},
     "output_type": "execute_result"
    }
   ],
   "source": [
    "int('23')"
   ]
  },
  {
   "cell_type": "code",
   "execution_count": null,
   "metadata": {
    "colab": {
     "base_uri": "https://localhost:8080/"
    },
    "id": "aXf0Ne5mN4IJ",
    "outputId": "e495f6aa-8db9-4415-9c94-774cef14cda4"
   },
   "outputs": [
    {
     "name": "stdout",
     "output_type": "stream",
     "text": [
      "5.0 <class 'float'>\n"
     ]
    }
   ],
   "source": [
    "a = float(5)\n",
    "print(a,type(a))"
   ]
  },
  {
   "cell_type": "code",
   "execution_count": null,
   "metadata": {
    "colab": {
     "base_uri": "https://localhost:8080/"
    },
    "id": "8nXLt4skN4IJ",
    "outputId": "283e06e2-563c-4a3f-f773-b750792d0e44"
   },
   "outputs": [
    {
     "name": "stdout",
     "output_type": "stream",
     "text": [
      "3 <class 'int'>\n"
     ]
    }
   ],
   "source": [
    "b = int(3.5)\n",
    "print(b,type(b))"
   ]
  },
  {
   "cell_type": "markdown",
   "metadata": {
    "id": "JfMnHC5VN4IK"
   },
   "source": [
    "# Operators and Expressions"
   ]
  },
  {
   "cell_type": "markdown",
   "metadata": {
    "id": "-NBXurMgN4IK"
   },
   "source": [
    "Operator is a predefined symbol that performs operation using operands.\n",
    "e.g., + is an operator that performs addition using two operands.\n",
    "\n",
    "Expression is collection of operands (literals/variables) and operators that when evaluated gives some result.\n",
    "e.g., (2+3)-5 is an expression that returns result 0. \n",
    "\n",
    "For each operator, please know:\n",
    "1. arity: no.of operands an operator acts upon\n",
    "2. operation: activity\n",
    "3. precedence: priority of evaluation\n",
    "4. Associativity: Order of evaluation"
   ]
  },
  {
   "cell_type": "markdown",
   "metadata": {
    "id": "WqJEk1zoN4IK"
   },
   "source": [
    "### Arithmatics operators"
   ]
  },
  {
   "cell_type": "code",
   "execution_count": null,
   "metadata": {
    "id": "HTDlmRWzN4IK",
    "outputId": "da588d89-2341-4bea-a627-5f9ba4ea5e5f"
   },
   "outputs": [
    {
     "name": "stdout",
     "output_type": "stream",
     "text": [
      "x + y = 19\n",
      "x - y = 11\n",
      "x * y = 60\n",
      "x / y = 3.75\n",
      "x // y = 3\n",
      "x ** y = 50625\n",
      "x % y  = 3\n"
     ]
    }
   ],
   "source": [
    "x = 15\n",
    "y = 4\n",
    "print('x + y =',x+y)\n",
    "print('x - y =',x-y)\n",
    "print('x * y =',x*y)\n",
    "print('x / y =',x/y)\n",
    "print('x // y =',x//y)\n",
    "print('x ** y =',x**y)\n",
    "print('x % y  =',x%y)"
   ]
  },
  {
   "cell_type": "markdown",
   "metadata": {
    "id": "9JuBhswCN4IK"
   },
   "source": [
    "### Comparison operators: relational operators\n",
    "![image.png](attachment:image.png)"
   ]
  },
  {
   "cell_type": "code",
   "execution_count": null,
   "metadata": {
    "colab": {
     "base_uri": "https://localhost:8080/"
    },
    "id": "THJJ058WN4IL",
    "outputId": "8c36dff6-26f8-4472-bf6d-81353d3100ed"
   },
   "outputs": [
    {
     "name": "stdout",
     "output_type": "stream",
     "text": [
      "x > y  is False\n",
      "x < y  is True\n",
      "x == y is False\n",
      "x != y is True\n",
      "x >= y is False\n",
      "x <= y is True\n"
     ]
    }
   ],
   "source": [
    "x = 10\n",
    "y = 12\n",
    "print('x > y  is',x>y)\n",
    "print('x < y  is',x<y)\n",
    "print('x == y is',x==y)\n",
    "print('x != y is',x!=y)\n",
    "print('x >= y is',x>=y)\n",
    "print('x <= y is',x<=y)"
   ]
  },
  {
   "cell_type": "markdown",
   "metadata": {
    "id": "Cwqv9dHcN4IL"
   },
   "source": [
    "###  Comparison operators: logical operators\n",
    "![image.png](attachment:image.png)\n"
   ]
  },
  {
   "cell_type": "code",
   "execution_count": null,
   "metadata": {
    "colab": {
     "base_uri": "https://localhost:8080/"
    },
    "id": "6YUV0l2XN4IL",
    "outputId": "fd880cb4-a5d7-49a5-bd6f-0357f7077d3d"
   },
   "outputs": [
    {
     "name": "stdout",
     "output_type": "stream",
     "text": [
      "x and y is False\n",
      "x or y is True\n",
      "not x is False\n"
     ]
    }
   ],
   "source": [
    "x = True\n",
    "y = False\n",
    "print('x and y is',x and y)\n",
    "print('x or y is',x or y)\n",
    "print('not x is',not x)"
   ]
  },
  {
   "cell_type": "markdown",
   "metadata": {
    "id": "ZItaACZYN4IM"
   },
   "source": [
    "### Identity operators"
   ]
  },
  {
   "cell_type": "code",
   "execution_count": null,
   "metadata": {
    "id": "qaCmPqwAN4IM",
    "outputId": "da417d4e-09c3-445b-dcd1-2fa05ab2f0e8"
   },
   "outputs": [
    {
     "name": "stdout",
     "output_type": "stream",
     "text": [
      "True\n",
      "True\n",
      "False\n"
     ]
    }
   ],
   "source": [
    "x1 = 5\n",
    "y1 = 5\n",
    "x2 = 'Hello'\n",
    "y2 = 'Hello'\n",
    "x3 = [1,2,3]\n",
    "y3 = [1,2,3]\n",
    "print(x1 is y1)\n",
    "print(x2 is y2)\n",
    "print(x3 is y3)"
   ]
  },
  {
   "cell_type": "markdown",
   "metadata": {
    "id": "6OeG1UypN4IM"
   },
   "source": [
    "###  Assignment operators"
   ]
  },
  {
   "cell_type": "code",
   "execution_count": 6,
   "metadata": {
    "colab": {
     "base_uri": "https://localhost:8080/"
    },
    "id": "eVEgzb12N4IN",
    "outputId": "67442f92-f46e-40bb-ca9a-2b2484eec43e"
   },
   "outputs": [
    {
     "name": "stdout",
     "output_type": "stream",
     "text": [
      "x= 15\n",
      "x += y = 19\n",
      "x -= y = 15\n",
      "x *= y = 60\n",
      "x /= y = 15.0\n",
      "x //= y = 3.0\n",
      "x **= y = 81.0\n"
     ]
    }
   ],
   "source": [
    "x = 15\n",
    "y = 4\n",
    "print('x=',x)\n",
    "x+=y\n",
    "print('x += y =',x)\n",
    "x-=y\n",
    "print('x -= y =',x)\n",
    "x*=y\n",
    "print('x *= y =',x)\n",
    "x/=y\n",
    "print('x /= y =',x)\n",
    "x//=y\n",
    "print('x //= y =',x)\n",
    "x**=y\n",
    "print('x **= y =',x)\n",
    "\n"
   ]
  },
  {
   "cell_type": "markdown",
   "metadata": {
    "id": "Jx-V068BN4IN"
   },
   "source": [
    "### Membership operators:\n",
    "`in` and `not in` are the membership operators in Python. They are used to test whether a value or variable is found in a sequence (string, list, tuple, set and dictionary)."
   ]
  },
  {
   "cell_type": "code",
   "execution_count": null,
   "metadata": {
    "id": "2Slpg0o_N4IN",
    "outputId": "5d8d00bc-ed3a-4054-8145-c62fd42b00f1"
   },
   "outputs": [
    {
     "name": "stdout",
     "output_type": "stream",
     "text": [
      "True\n",
      "True\n",
      "True\n",
      "False\n"
     ]
    }
   ],
   "source": [
    "x = 'Hello world'\n",
    "y = {1:'a',2:'b'}\n",
    "\n",
    "print('H' in x)\n",
    "print('hello' not in x)\n",
    "print(1 in y)\n",
    "print('a' in y)"
   ]
  },
  {
   "cell_type": "code",
   "execution_count": null,
   "metadata": {
    "id": "2LyCUQoYN4IN"
   },
   "outputs": [],
   "source": []
  }
 ],
 "metadata": {
  "colab": {
   "name": "Introduction_130.ipynb",
   "provenance": []
  },
  "kernelspec": {
   "display_name": "Python 3 (ipykernel)",
   "language": "python",
   "name": "python3"
  },
  "language_info": {
   "codemirror_mode": {
    "name": "ipython",
    "version": 3
   },
   "file_extension": ".py",
   "mimetype": "text/x-python",
   "name": "python",
   "nbconvert_exporter": "python",
   "pygments_lexer": "ipython3",
   "version": "3.9.7"
  }
 },
 "nbformat": 4,
 "nbformat_minor": 1
}
