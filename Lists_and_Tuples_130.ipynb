{
 "cells": [
  {
   "cell_type": "markdown",
   "metadata": {
    "id": "9dWGsPkShRR6"
   },
   "source": [
    "# Today's Agenda\n",
    "- List\n",
    "> ### What is List?\n",
    "> ### Different ways of creating List?\n",
    "> ### What is list indexing?\n",
    "> ### What are the built-in functions availble in List!\n",
    "- Tuple\n",
    "> ### What is Tuple?\n",
    "> ### Different ways of creating Tuple?\n",
    "> ### What is Tuple indexing?\n",
    "> ### What are the built-in functions availble in Tuple!\n",
    "-------------------------------------------------------------\n",
    "> ### what is main Difference between List and Tuple\n",
    "> ### Where should we use what?"
   ]
  },
  {
   "cell_type": "markdown",
   "metadata": {
    "id": "iK7askLuhRR_"
   },
   "source": [
    "### Collections are ways to store and collect multiple items in python. There are four main collections in python, they are:\n",
    "\n",
    "- lists\n",
    "- tuples\n",
    "- sets\n",
    "- dictionaries"
   ]
  },
  {
   "cell_type": "markdown",
   "metadata": {
    "id": "XqXYVtMvhRSA"
   },
   "source": [
    "# List\n",
    "- `Lists`are collections in python which are defined using `[]` and collect various elements inside it(the elements are separated from each other by `,`)\n",
    "- Lists allow duplicate values\n",
    "\n",
    "- Lists are ordered – Lists remember the order of items inserted.\n",
    "- Accessed by index – Items in a list can be accessed using an index.\n",
    "- Lists can contain any sort of object – It can be numbers, strings, tuples and even other lists.\n",
    "- Lists are changeable (mutable) – You can change a list in-place, add new items, and delete or update existing items."
   ]
  },
  {
   "cell_type": "code",
   "execution_count": 1,
   "metadata": {
    "colab": {
     "base_uri": "https://localhost:8080/"
    },
    "id": "ZnE2rUvxhRSC",
    "outputId": "a5f1efa0-1159-4c40-f7d3-f1367a11c900"
   },
   "outputs": [
    {
     "data": {
      "text/plain": [
       "[]"
      ]
     },
     "execution_count": 1,
     "metadata": {},
     "output_type": "execute_result"
    }
   ],
   "source": [
    "# defining a list which has no elements in it\n",
    "l = []\n",
    "l"
   ]
  },
  {
   "cell_type": "code",
   "execution_count": 2,
   "metadata": {
    "colab": {
     "base_uri": "https://localhost:8080/"
    },
    "id": "52WJdXj5hRSD",
    "outputId": "c58b513f-b232-4462-f54b-4ddb6c0dc8c0"
   },
   "outputs": [
    {
     "data": {
      "text/plain": [
       "['Hi']"
      ]
     },
     "execution_count": 2,
     "metadata": {},
     "output_type": "execute_result"
    }
   ],
   "source": [
    "# defining a list with a single element in it\n",
    "l = [\"Hi\"]\n",
    "l"
   ]
  },
  {
   "cell_type": "code",
   "execution_count": 3,
   "metadata": {
    "colab": {
     "base_uri": "https://localhost:8080/"
    },
    "id": "CZyk23AwhRSE",
    "outputId": "3396d8cc-eea6-4fd2-a6d8-905649da05b7"
   },
   "outputs": [
    {
     "data": {
      "text/plain": [
       "[1, 2, 3, 4]"
      ]
     },
     "execution_count": 3,
     "metadata": {},
     "output_type": "execute_result"
    }
   ],
   "source": [
    "# defining a list which has multiple elements of the same type\n",
    "l = [1,2,3,4]\n",
    "l"
   ]
  },
  {
   "cell_type": "markdown",
   "metadata": {
    "id": "kkXAZa5i0nPM"
   },
   "source": []
  },
  {
   "cell_type": "code",
   "execution_count": 4,
   "metadata": {
    "id": "Y9O4aptmhRSE"
   },
   "outputs": [],
   "source": [
    "# defining a list which has multiple elements of different types\n",
    "l = [1,'hey',2.5,True,[1,2]]"
   ]
  },
  {
   "cell_type": "code",
   "execution_count": 5,
   "metadata": {
    "colab": {
     "base_uri": "https://localhost:8080/"
    },
    "id": "ovxRu6tShyFR",
    "outputId": "5209f47c-f5c3-4ab9-8788-6549871d1826"
   },
   "outputs": [
    {
     "data": {
      "text/plain": [
       "[3,\n",
       " 4,\n",
       " 5,\n",
       " 6,\n",
       " 7,\n",
       " 8,\n",
       " 9,\n",
       " 10,\n",
       " 11,\n",
       " 12,\n",
       " 13,\n",
       " 14,\n",
       " 15,\n",
       " 16,\n",
       " 17,\n",
       " 18,\n",
       " 19,\n",
       " 20,\n",
       " 21,\n",
       " 22,\n",
       " 23,\n",
       " 24,\n",
       " 25,\n",
       " 26,\n",
       " 27,\n",
       " 28,\n",
       " 29,\n",
       " 30,\n",
       " 31,\n",
       " 32,\n",
       " 33,\n",
       " 34,\n",
       " 35,\n",
       " 36,\n",
       " 37,\n",
       " 38,\n",
       " 39,\n",
       " 40,\n",
       " 41,\n",
       " 42,\n",
       " 43,\n",
       " 44,\n",
       " 45,\n",
       " 46,\n",
       " 47,\n",
       " 48,\n",
       " 49,\n",
       " 50,\n",
       " 51,\n",
       " 52,\n",
       " 53,\n",
       " 54,\n",
       " 55,\n",
       " 56,\n",
       " 57,\n",
       " 58,\n",
       " 59,\n",
       " 60,\n",
       " 61,\n",
       " 62,\n",
       " 63,\n",
       " 64,\n",
       " 65,\n",
       " 66,\n",
       " 67,\n",
       " 68,\n",
       " 69,\n",
       " 70,\n",
       " 71,\n",
       " 72,\n",
       " 73,\n",
       " 74,\n",
       " 75,\n",
       " 76,\n",
       " 77,\n",
       " 78,\n",
       " 79,\n",
       " 80,\n",
       " 81,\n",
       " 82,\n",
       " 83,\n",
       " 84,\n",
       " 85,\n",
       " 86,\n",
       " 87,\n",
       " 88,\n",
       " 89,\n",
       " 90,\n",
       " 91,\n",
       " 92,\n",
       " 93,\n",
       " 94,\n",
       " 95,\n",
       " 96,\n",
       " 97,\n",
       " 98,\n",
       " 99,\n",
       " 100]"
      ]
     },
     "execution_count": 5,
     "metadata": {},
     "output_type": "execute_result"
    }
   ],
   "source": [
    "#Create a list with elements 3, 4, 5...100 using range\n",
    "list(range(3,101))"
   ]
  },
  {
   "cell_type": "code",
   "execution_count": 6,
   "metadata": {
    "colab": {
     "base_uri": "https://localhost:8080/"
    },
    "id": "E0eyBR3Ph4YP",
    "outputId": "0d0e499d-e8b2-4005-d5a1-77cbca096e3b"
   },
   "outputs": [
    {
     "data": {
      "text/plain": [
       "['a', 'b', 'c', 'd']"
      ]
     },
     "execution_count": 6,
     "metadata": {},
     "output_type": "execute_result"
    }
   ],
   "source": [
    "# Create a list with characters a, b, c, d from string\n",
    "s = \"abcd\"\n",
    "l = list(s)\n",
    "l"
   ]
  },
  {
   "cell_type": "markdown",
   "metadata": {
    "id": "Dx69IXhXhRSF"
   },
   "source": [
    "### List Indexing:\n",
    "\n",
    "![image.png](attachment:image.png)"
   ]
  },
  {
   "cell_type": "code",
   "execution_count": 7,
   "metadata": {
    "colab": {
     "base_uri": "https://localhost:8080/"
    },
    "id": "bKH7bXSuhRSG",
    "outputId": "6972ebe8-ebe0-4412-fd1a-1389632b45d0"
   },
   "outputs": [
    {
     "data": {
      "text/plain": [
       "2.5"
      ]
     },
     "execution_count": 7,
     "metadata": {},
     "output_type": "execute_result"
    }
   ],
   "source": [
    "l = [1,'hey',2.5,True,[1,2]]\n",
    "l[2]"
   ]
  },
  {
   "cell_type": "code",
   "execution_count": 8,
   "metadata": {
    "colab": {
     "base_uri": "https://localhost:8080/"
    },
    "id": "sN3iJ4HhhRSH",
    "outputId": "daa0f3c7-0199-4cf5-b287-8d65040320ce"
   },
   "outputs": [
    {
     "data": {
      "text/plain": [
       "[1, 2]"
      ]
     },
     "execution_count": 8,
     "metadata": {},
     "output_type": "execute_result"
    }
   ],
   "source": [
    "l[4]"
   ]
  },
  {
   "cell_type": "code",
   "execution_count": 9,
   "metadata": {
    "colab": {
     "base_uri": "https://localhost:8080/"
    },
    "id": "4GffPExahRSH",
    "outputId": "0720ebd5-1b54-4b6d-87e9-17794e5f3b03"
   },
   "outputs": [
    {
     "data": {
      "text/plain": [
       "1"
      ]
     },
     "execution_count": 9,
     "metadata": {},
     "output_type": "execute_result"
    }
   ],
   "source": [
    "l[4][0]"
   ]
  },
  {
   "cell_type": "code",
   "execution_count": 10,
   "metadata": {
    "colab": {
     "base_uri": "https://localhost:8080/"
    },
    "id": "mxkaD5ibLgkX",
    "outputId": "60c79bb6-fc7c-4007-e519-2499e4d9d05c"
   },
   "outputs": [
    {
     "data": {
      "text/plain": [
       "['hey', 2.5]"
      ]
     },
     "execution_count": 10,
     "metadata": {},
     "output_type": "execute_result"
    }
   ],
   "source": [
    "l[1:3]"
   ]
  },
  {
   "cell_type": "code",
   "execution_count": 11,
   "metadata": {
    "colab": {
     "base_uri": "https://localhost:8080/"
    },
    "id": "78raz3_hLqfw",
    "outputId": "1b915d1f-373e-44aa-82c4-712111d3e76e"
   },
   "outputs": [
    {
     "data": {
      "text/plain": [
       "[1, 2.5]"
      ]
     },
     "execution_count": 11,
     "metadata": {},
     "output_type": "execute_result"
    }
   ],
   "source": [
    "l[0:4:2]"
   ]
  },
  {
   "cell_type": "code",
   "execution_count": 12,
   "metadata": {
    "colab": {
     "base_uri": "https://localhost:8080/"
    },
    "id": "NUJUEVT2MOub",
    "outputId": "0f73b5b5-1474-449f-e155-2335df641425"
   },
   "outputs": [
    {
     "data": {
      "text/plain": [
       "[1, 2]"
      ]
     },
     "execution_count": 12,
     "metadata": {},
     "output_type": "execute_result"
    }
   ],
   "source": [
    "l[-1]"
   ]
  },
  {
   "cell_type": "markdown",
   "metadata": {
    "id": "tXzCLVTOhRSH"
   },
   "source": [
    "## 2. List as sequence type\n",
    "- Strings and lists are sequence types in Python. A string is a sequence of characters, while a list is a sequence of any elements. "
   ]
  },
  {
   "cell_type": "code",
   "execution_count": 13,
   "metadata": {
    "id": "HE2C9UEXhRSI"
   },
   "outputs": [],
   "source": [
    "l1 = [3,4,\"hi\",['a','b'],5.6]"
   ]
  },
  {
   "cell_type": "code",
   "execution_count": 14,
   "metadata": {
    "colab": {
     "base_uri": "https://localhost:8080/",
     "height": 35
    },
    "id": "Bgo8vN3EhRSJ",
    "outputId": "f35ca5e7-333b-4160-97a5-9aedaac974ef"
   },
   "outputs": [
    {
     "data": {
      "application/vnd.google.colaboratory.intrinsic+json": {
       "type": "string"
      },
      "text/plain": [
       "'b'"
      ]
     },
     "execution_count": 14,
     "metadata": {},
     "output_type": "execute_result"
    }
   ],
   "source": [
    "l1[3][1]"
   ]
  },
  {
   "cell_type": "code",
   "execution_count": 15,
   "metadata": {
    "colab": {
     "base_uri": "https://localhost:8080/",
     "height": 35
    },
    "id": "cZJqcLjthRSJ",
    "outputId": "737fabb1-ab90-4f8e-b385-4544487a7180"
   },
   "outputs": [
    {
     "data": {
      "application/vnd.google.colaboratory.intrinsic+json": {
       "type": "string"
      },
      "text/plain": [
       "'i'"
      ]
     },
     "execution_count": 15,
     "metadata": {},
     "output_type": "execute_result"
    }
   ],
   "source": [
    "l1[2][1]"
   ]
  },
  {
   "cell_type": "code",
   "execution_count": 16,
   "metadata": {
    "colab": {
     "base_uri": "https://localhost:8080/"
    },
    "id": "1iDRZx7f3QV2",
    "outputId": "89ccb5c9-da03-49c9-d4e5-48eb3ab11869"
   },
   "outputs": [
    {
     "data": {
      "text/plain": [
       "[1, 2, 3, 4]"
      ]
     },
     "execution_count": 16,
     "metadata": {},
     "output_type": "execute_result"
    }
   ],
   "source": [
    " # concatenating lists\n",
    "l1 = [1,2]\n",
    "l2 = [3,4]\n",
    "l1 + l2"
   ]
  },
  {
   "cell_type": "code",
   "execution_count": 17,
   "metadata": {
    "colab": {
     "base_uri": "https://localhost:8080/"
    },
    "id": "Skzh8c2z3hig",
    "outputId": "83be1259-83f2-4e9e-ec6c-789d5ca02050"
   },
   "outputs": [
    {
     "data": {
      "text/plain": [
       "[5, 2]"
      ]
     },
     "execution_count": 17,
     "metadata": {},
     "output_type": "execute_result"
    }
   ],
   "source": [
    " #modifying a list\n",
    "l1[0] = 5\n",
    "l1"
   ]
  },
  {
   "cell_type": "markdown",
   "metadata": {
    "id": "vctHtexphRSJ"
   },
   "source": [
    "# Built-in Functions\n",
    "### 1. append()\n",
    "- `append()` is used to add a single element to the end of the list"
   ]
  },
  {
   "cell_type": "code",
   "execution_count": 18,
   "metadata": {
    "colab": {
     "base_uri": "https://localhost:8080/"
    },
    "id": "caoZxB1xM6ku",
    "outputId": "9ff7ec00-2501-4a5a-ef96-8f18d6df9ffa"
   },
   "outputs": [
    {
     "data": {
      "text/plain": [
       "[5, 2]"
      ]
     },
     "execution_count": 18,
     "metadata": {},
     "output_type": "execute_result"
    }
   ],
   "source": [
    "l1"
   ]
  },
  {
   "cell_type": "code",
   "execution_count": 19,
   "metadata": {
    "id": "wb41BW3qM99I"
   },
   "outputs": [],
   "source": [
    "l1.append(\"hey\")"
   ]
  },
  {
   "cell_type": "code",
   "execution_count": 20,
   "metadata": {
    "colab": {
     "base_uri": "https://localhost:8080/"
    },
    "id": "yhRwWr6rNG93",
    "outputId": "a413b3b2-177d-4355-d852-031b37e416b6"
   },
   "outputs": [
    {
     "data": {
      "text/plain": [
       "[5, 2, 'hey']"
      ]
     },
     "execution_count": 20,
     "metadata": {},
     "output_type": "execute_result"
    }
   ],
   "source": [
    "l1"
   ]
  },
  {
   "cell_type": "markdown",
   "metadata": {
    "id": "-Bm7A-tXhRSL"
   },
   "source": [
    "# 2. extend()\n",
    "- `extend()` is used to extend our current list with another list"
   ]
  },
  {
   "cell_type": "code",
   "execution_count": 21,
   "metadata": {
    "colab": {
     "base_uri": "https://localhost:8080/"
    },
    "id": "HYs74V2TNxyv",
    "outputId": "a16c181b-ea45-4a2f-cd84-059651a6735b"
   },
   "outputs": [
    {
     "data": {
      "text/plain": [
       "[5, 2, 'hey']"
      ]
     },
     "execution_count": 21,
     "metadata": {},
     "output_type": "execute_result"
    }
   ],
   "source": [
    "l1"
   ]
  },
  {
   "cell_type": "code",
   "execution_count": 22,
   "metadata": {
    "colab": {
     "base_uri": "https://localhost:8080/"
    },
    "id": "ljKrRg2GN2_X",
    "outputId": "31920d86-1ac6-482f-b48c-d721f9f9f382"
   },
   "outputs": [
    {
     "data": {
      "text/plain": [
       "[5, 2, 'hey', [10, 11]]"
      ]
     },
     "execution_count": 22,
     "metadata": {},
     "output_type": "execute_result"
    }
   ],
   "source": [
    "l1.append([10,11])\n",
    "l1"
   ]
  },
  {
   "cell_type": "code",
   "execution_count": 23,
   "metadata": {
    "id": "HVxB_O9HODqs"
   },
   "outputs": [],
   "source": [
    "l1.extend([10,11])"
   ]
  },
  {
   "cell_type": "code",
   "execution_count": 24,
   "metadata": {
    "colab": {
     "base_uri": "https://localhost:8080/"
    },
    "id": "X3DhnIciOHMX",
    "outputId": "ac8909bd-3154-4c2c-da33-926ab8f8c893"
   },
   "outputs": [
    {
     "data": {
      "text/plain": [
       "[5, 2, 'hey', [10, 11], 10, 11]"
      ]
     },
     "execution_count": 24,
     "metadata": {},
     "output_type": "execute_result"
    }
   ],
   "source": [
    "l1"
   ]
  },
  {
   "cell_type": "markdown",
   "metadata": {
    "id": "2ZgDK6snhRSN"
   },
   "source": [
    "### Changing values in a list\n",
    "- Changing values in a list is pretty staright-forward. Index the value you're trying to change and reassign it with the replacement"
   ]
  },
  {
   "cell_type": "code",
   "execution_count": 26,
   "metadata": {
    "colab": {
     "base_uri": "https://localhost:8080/"
    },
    "id": "QbeH1xyIOyas",
    "outputId": "285745e6-1da5-4def-a76e-b7532b9e4a33"
   },
   "outputs": [
    {
     "data": {
      "text/plain": [
       "[5, 2, 'hey', [5, 11], 10, 11]"
      ]
     },
     "execution_count": 26,
     "metadata": {},
     "output_type": "execute_result"
    }
   ],
   "source": [
    "l1[3][0] = 5\n",
    "l1"
   ]
  },
  {
   "cell_type": "markdown",
   "metadata": {
    "id": "A4WJDoeHhRSO"
   },
   "source": [
    "### Removing values from the list\n",
    "## pop()\n",
    "- `pop()` is used to remove a value in the list, based on its index position. If no index is mentioned, pop() removes the last value"
   ]
  },
  {
   "cell_type": "code",
   "execution_count": 27,
   "metadata": {
    "colab": {
     "base_uri": "https://localhost:8080/"
    },
    "id": "dbRS6h9YO9bi",
    "outputId": "e2cf3f72-2e26-4aca-d7bc-1d835da14165"
   },
   "outputs": [
    {
     "name": "stdout",
     "output_type": "stream",
     "text": [
      "5 [1, 2, 3, 4]\n"
     ]
    }
   ],
   "source": [
    "l = [1,2,3,4,5]\n",
    "a = l.pop()\n",
    "print(a,l)"
   ]
  },
  {
   "cell_type": "code",
   "execution_count": 28,
   "metadata": {
    "colab": {
     "base_uri": "https://localhost:8080/"
    },
    "id": "nnYeUNUHP9th",
    "outputId": "16fa6fbc-2ab0-4a73-b9ca-ef349f923bfd"
   },
   "outputs": [
    {
     "data": {
      "text/plain": [
       "[1, 2, 3, 4]"
      ]
     },
     "execution_count": 28,
     "metadata": {},
     "output_type": "execute_result"
    }
   ],
   "source": [
    "l"
   ]
  },
  {
   "cell_type": "code",
   "execution_count": 29,
   "metadata": {
    "colab": {
     "base_uri": "https://localhost:8080/"
    },
    "id": "H1LN6LddP_Jo",
    "outputId": "da34316b-b7b9-4fc8-d970-a07563197f96"
   },
   "outputs": [
    {
     "name": "stdout",
     "output_type": "stream",
     "text": [
      "2 [1, 3, 4]\n"
     ]
    }
   ],
   "source": [
    "a = l.pop(1)\n",
    "print(a,l)"
   ]
  },
  {
   "cell_type": "markdown",
   "metadata": {
    "id": "YUPwDeTbhRSP"
   },
   "source": [
    "### remove()\n",
    "- remove() is used to remove a value from the list if the value is known but not its index"
   ]
  },
  {
   "cell_type": "code",
   "execution_count": 30,
   "metadata": {
    "colab": {
     "base_uri": "https://localhost:8080/"
    },
    "id": "T4vqQfHhQkBE",
    "outputId": "9d5867d7-d49b-4b6b-bd41-40854e7d619f"
   },
   "outputs": [
    {
     "data": {
      "text/plain": [
       "[1, 3, 4]"
      ]
     },
     "execution_count": 30,
     "metadata": {},
     "output_type": "execute_result"
    }
   ],
   "source": [
    "l"
   ]
  },
  {
   "cell_type": "code",
   "execution_count": 31,
   "metadata": {
    "id": "4DOinsvmQtyk"
   },
   "outputs": [],
   "source": [
    "l.remove(4)"
   ]
  },
  {
   "cell_type": "code",
   "execution_count": 32,
   "metadata": {
    "colab": {
     "base_uri": "https://localhost:8080/"
    },
    "id": "1CQbviifQwV5",
    "outputId": "32e5d2e6-d4a2-4037-e194-7fb896bfc0b1"
   },
   "outputs": [
    {
     "data": {
      "text/plain": [
       "[1, 3]"
      ]
     },
     "execution_count": 32,
     "metadata": {},
     "output_type": "execute_result"
    }
   ],
   "source": [
    "l"
   ]
  },
  {
   "cell_type": "markdown",
   "metadata": {
    "id": "YKQB5hTihRSQ"
   },
   "source": [
    "### del\n",
    "- We can also remove values from a list based on their index positions using the del keyword"
   ]
  },
  {
   "cell_type": "code",
   "execution_count": 33,
   "metadata": {
    "id": "hrmVHuPNhRSQ"
   },
   "outputs": [],
   "source": [
    "l = [1,2,3,4,5]\n",
    "del l[2]"
   ]
  },
  {
   "cell_type": "code",
   "execution_count": 34,
   "metadata": {
    "colab": {
     "base_uri": "https://localhost:8080/"
    },
    "id": "5UbUD3VbRJ7v",
    "outputId": "3c88d8ac-6a70-412a-cb79-dffe2bab15eb"
   },
   "outputs": [
    {
     "data": {
      "text/plain": [
       "[1, 2, 4, 5]"
      ]
     },
     "execution_count": 34,
     "metadata": {},
     "output_type": "execute_result"
    }
   ],
   "source": [
    "l"
   ]
  },
  {
   "cell_type": "markdown",
   "metadata": {
    "id": "W0ESxs-PhRSR"
   },
   "source": [
    "### copy()"
   ]
  },
  {
   "cell_type": "code",
   "execution_count": 35,
   "metadata": {
    "colab": {
     "base_uri": "https://localhost:8080/"
    },
    "id": "R3tohrrvhRSR",
    "outputId": "76b58677-153e-4262-b4f1-37f56781a66d"
   },
   "outputs": [
    {
     "data": {
      "text/plain": [
       "[5, 2, 'hey', [5, 11], 10, 11]"
      ]
     },
     "execution_count": 35,
     "metadata": {},
     "output_type": "execute_result"
    }
   ],
   "source": [
    "l2 = l1\n",
    "l2"
   ]
  },
  {
   "cell_type": "code",
   "execution_count": 36,
   "metadata": {
    "colab": {
     "base_uri": "https://localhost:8080/"
    },
    "id": "MFguniBehRSR",
    "outputId": "b08d22cd-a84c-4264-b464-11a59f314a40"
   },
   "outputs": [
    {
     "data": {
      "text/plain": [
       "[100, 2, 'hey', [5, 11], 10, 11]"
      ]
     },
     "execution_count": 36,
     "metadata": {},
     "output_type": "execute_result"
    }
   ],
   "source": [
    "l2[0] = 100\n",
    "l2"
   ]
  },
  {
   "cell_type": "code",
   "execution_count": 37,
   "metadata": {
    "colab": {
     "base_uri": "https://localhost:8080/"
    },
    "id": "xtplObvt7xEb",
    "outputId": "ed616aab-504d-440c-a67f-e825fb2c59df"
   },
   "outputs": [
    {
     "data": {
      "text/plain": [
       "[100, 2, 'hey', [5, 11], 10, 11]"
      ]
     },
     "execution_count": 37,
     "metadata": {},
     "output_type": "execute_result"
    }
   ],
   "source": [
    "l1"
   ]
  },
  {
   "cell_type": "code",
   "execution_count": 38,
   "metadata": {
    "colab": {
     "base_uri": "https://localhost:8080/"
    },
    "id": "e_y6kHysSwzP",
    "outputId": "fc314f2f-8071-4581-861a-bf3f84ad9202"
   },
   "outputs": [
    {
     "name": "stdout",
     "output_type": "stream",
     "text": [
      "5 4\n"
     ]
    }
   ],
   "source": [
    "a = 5\n",
    "b = a\n",
    "b = 4\n",
    "print(a,b)"
   ]
  },
  {
   "cell_type": "code",
   "execution_count": 39,
   "metadata": {
    "colab": {
     "base_uri": "https://localhost:8080/"
    },
    "id": "nZx8VYiH73OJ",
    "outputId": "68e8ef8d-9125-458b-9cf4-cc6c668c410a"
   },
   "outputs": [
    {
     "data": {
      "text/plain": [
       "[200, 2, 'hey', [5, 11], 10, 11]"
      ]
     },
     "execution_count": 39,
     "metadata": {},
     "output_type": "execute_result"
    }
   ],
   "source": [
    "l2 = l1.copy()\n",
    "l2[0] = 200\n",
    "l2"
   ]
  },
  {
   "cell_type": "code",
   "execution_count": 40,
   "metadata": {
    "colab": {
     "base_uri": "https://localhost:8080/"
    },
    "id": "VyANNxhw79o2",
    "outputId": "b090ebb3-2953-4d9d-f31f-b2efcfc3e834"
   },
   "outputs": [
    {
     "data": {
      "text/plain": [
       "[100, 2, 'hey', [5, 11], 10, 11]"
      ]
     },
     "execution_count": 40,
     "metadata": {},
     "output_type": "execute_result"
    }
   ],
   "source": [
    "l1"
   ]
  },
  {
   "cell_type": "markdown",
   "metadata": {
    "id": "dAz9QL0khRSR"
   },
   "source": [
    "### deepcopy()"
   ]
  },
  {
   "cell_type": "code",
   "execution_count": 41,
   "metadata": {
    "colab": {
     "base_uri": "https://localhost:8080/"
    },
    "id": "5ITuRYM1Urrl",
    "outputId": "909c1b79-2fe4-4d15-e9b1-93a8af364f1a"
   },
   "outputs": [
    {
     "data": {
      "text/plain": [
       "[100, 2, 'hey', [5, 11], 10, 11]"
      ]
     },
     "execution_count": 41,
     "metadata": {},
     "output_type": "execute_result"
    }
   ],
   "source": [
    "l1"
   ]
  },
  {
   "cell_type": "code",
   "execution_count": 42,
   "metadata": {
    "colab": {
     "base_uri": "https://localhost:8080/"
    },
    "id": "BVfLlfJYUtdl",
    "outputId": "60a82002-bb80-4739-a9aa-4adb9c9c2cd7"
   },
   "outputs": [
    {
     "data": {
      "text/plain": [
       "[200, 2, 'hey', [5, 11], 10, 11]"
      ]
     },
     "execution_count": 42,
     "metadata": {},
     "output_type": "execute_result"
    }
   ],
   "source": [
    "l2"
   ]
  },
  {
   "cell_type": "code",
   "execution_count": 44,
   "metadata": {
    "colab": {
     "base_uri": "https://localhost:8080/"
    },
    "id": "9WDKXkI7UvqY",
    "outputId": "c301b32d-6e30-4ac5-a07a-1c7cccf068fa"
   },
   "outputs": [
    {
     "data": {
      "text/plain": [
       "[100, 2, 'hey', [10, 11], 10, 11]"
      ]
     },
     "execution_count": 44,
     "metadata": {},
     "output_type": "execute_result"
    }
   ],
   "source": [
    "l1[3][0] = 10\n",
    "l1"
   ]
  },
  {
   "cell_type": "code",
   "execution_count": 45,
   "metadata": {
    "colab": {
     "base_uri": "https://localhost:8080/"
    },
    "id": "9faqQTm_U38f",
    "outputId": "9ce2bcac-0e06-4c84-d560-18a62fb59878"
   },
   "outputs": [
    {
     "data": {
      "text/plain": [
       "[200, 2, 'hey', [10, 11], 10, 11]"
      ]
     },
     "execution_count": 45,
     "metadata": {},
     "output_type": "execute_result"
    }
   ],
   "source": [
    "l2"
   ]
  },
  {
   "cell_type": "code",
   "execution_count": 46,
   "metadata": {
    "id": "P9U1Wr1RhRSR"
   },
   "outputs": [],
   "source": [
    "import copy"
   ]
  },
  {
   "cell_type": "code",
   "execution_count": 48,
   "metadata": {
    "colab": {
     "base_uri": "https://localhost:8080/"
    },
    "id": "ZHsm-_BVhRSR",
    "outputId": "4805cc13-3d59-49a2-912f-0b7137e66d0b"
   },
   "outputs": [
    {
     "data": {
      "text/plain": [
       "[100, 2, 'hey', ['z', 11], 10, 11]"
      ]
     },
     "execution_count": 48,
     "metadata": {},
     "output_type": "execute_result"
    }
   ],
   "source": [
    "l2 = copy.deepcopy(l1)\n",
    "l2[3][0] = 'z'\n",
    "l2"
   ]
  },
  {
   "cell_type": "code",
   "execution_count": 49,
   "metadata": {
    "id": "nJCkcTDG9G_0"
   },
   "outputs": [],
   "source": [
    "l1 = [2,3,4]"
   ]
  },
  {
   "cell_type": "markdown",
   "metadata": {
    "id": "ey6LYtTfhRSR"
   },
   "source": [
    "### clear()"
   ]
  },
  {
   "cell_type": "code",
   "execution_count": 50,
   "metadata": {
    "colab": {
     "base_uri": "https://localhost:8080/"
    },
    "id": "lNAF8W1ShRSS",
    "outputId": "7bc7e9fc-b683-49a2-f8b6-b635185f9f6e"
   },
   "outputs": [
    {
     "data": {
      "text/plain": [
       "[]"
      ]
     },
     "execution_count": 50,
     "metadata": {},
     "output_type": "execute_result"
    }
   ],
   "source": [
    "l1.clear()\n",
    "l1"
   ]
  },
  {
   "cell_type": "markdown",
   "metadata": {
    "id": "fLQsfweJhRSS"
   },
   "source": [
    "### count()\n",
    "- to look at the number of occurences of an element in the list"
   ]
  },
  {
   "cell_type": "code",
   "execution_count": 51,
   "metadata": {
    "id": "fQQUo4qu7_tx"
   },
   "outputs": [],
   "source": [
    "l1 = [1,2,2,2,3,3]"
   ]
  },
  {
   "cell_type": "code",
   "execution_count": 52,
   "metadata": {
    "colab": {
     "base_uri": "https://localhost:8080/"
    },
    "id": "rsnu756H7_sP",
    "outputId": "39f09048-5d04-4487-f45d-cc7eeffb88ef"
   },
   "outputs": [
    {
     "data": {
      "text/plain": [
       "2"
      ]
     },
     "execution_count": 52,
     "metadata": {},
     "output_type": "execute_result"
    }
   ],
   "source": [
    "l1.count(3)"
   ]
  },
  {
   "cell_type": "markdown",
   "metadata": {
    "id": "2699N4zN6pK6"
   },
   "source": [
    "### sort()"
   ]
  },
  {
   "cell_type": "code",
   "execution_count": 53,
   "metadata": {
    "id": "zRtHnjRE8Ox2"
   },
   "outputs": [],
   "source": [
    "l1 = [5,1,6,2]"
   ]
  },
  {
   "cell_type": "code",
   "execution_count": 54,
   "metadata": {
    "colab": {
     "base_uri": "https://localhost:8080/"
    },
    "id": "20BEhYPW8OvK",
    "outputId": "dbe07ac8-fcdc-4ec0-9dd6-f3336b10cdce"
   },
   "outputs": [
    {
     "data": {
      "text/plain": [
       "[1, 2, 5, 6]"
      ]
     },
     "execution_count": 54,
     "metadata": {},
     "output_type": "execute_result"
    }
   ],
   "source": [
    "l1.sort()\n",
    "l1"
   ]
  },
  {
   "cell_type": "markdown",
   "metadata": {
    "id": "EK4lEP_n8gkx"
   },
   "source": [
    "### reverse()"
   ]
  },
  {
   "cell_type": "code",
   "execution_count": 55,
   "metadata": {
    "colab": {
     "base_uri": "https://localhost:8080/"
    },
    "id": "NLpWD2Eb8jH9",
    "outputId": "805974db-c08d-46d0-ccdf-34b6790800b1"
   },
   "outputs": [
    {
     "data": {
      "text/plain": [
       "[6, 5, 2, 1]"
      ]
     },
     "execution_count": 55,
     "metadata": {},
     "output_type": "execute_result"
    }
   ],
   "source": [
    "l1.reverse()\n",
    "l1"
   ]
  },
  {
   "cell_type": "code",
   "execution_count": 55,
   "metadata": {
    "id": "rMByEKyN8jFR"
   },
   "outputs": [],
   "source": []
  },
  {
   "cell_type": "markdown",
   "metadata": {
    "id": "fGPdqCsm8giW"
   },
   "source": []
  },
  {
   "cell_type": "code",
   "execution_count": 55,
   "metadata": {
    "id": "ynd1CH5h8fX7"
   },
   "outputs": [],
   "source": []
  },
  {
   "cell_type": "code",
   "execution_count": 55,
   "metadata": {
    "id": "-o5cpcC38fVh"
   },
   "outputs": [],
   "source": []
  },
  {
   "cell_type": "markdown",
   "metadata": {
    "id": "uilGGx8H6pIc"
   },
   "source": []
  },
  {
   "cell_type": "markdown",
   "metadata": {
    "id": "xW0MkorrhRSU"
   },
   "source": [
    "### insert()"
   ]
  },
  {
   "cell_type": "markdown",
   "metadata": {
    "id": "UPMaoww-hRSU"
   },
   "source": []
  },
  {
   "cell_type": "code",
   "execution_count": 56,
   "metadata": {
    "colab": {
     "base_uri": "https://localhost:8080/"
    },
    "id": "JO3PHbWcb6na",
    "outputId": "a66696ac-1ef0-4ec7-9e78-f21a6fdbd38b"
   },
   "outputs": [
    {
     "data": {
      "text/plain": [
       "[6, 5, 2, 1]"
      ]
     },
     "execution_count": 56,
     "metadata": {},
     "output_type": "execute_result"
    }
   ],
   "source": [
    "l1"
   ]
  },
  {
   "cell_type": "code",
   "execution_count": 57,
   "metadata": {
    "colab": {
     "base_uri": "https://localhost:8080/"
    },
    "id": "AQtqmCHJ80Ej",
    "outputId": "fb9af1bc-7fda-4e32-c7d8-5a8f140805d2"
   },
   "outputs": [
    {
     "data": {
      "text/plain": [
       "[6, 5, 8, 2, 1]"
      ]
     },
     "execution_count": 57,
     "metadata": {},
     "output_type": "execute_result"
    }
   ],
   "source": [
    "l1.insert(2,8)\n",
    "l1"
   ]
  },
  {
   "cell_type": "markdown",
   "metadata": {
    "id": "YUM7Zn5V9MBY"
   },
   "source": [
    "### Iterating over lists"
   ]
  },
  {
   "cell_type": "markdown",
   "metadata": {
    "id": "42FYhBuR9L-X"
   },
   "source": []
  },
  {
   "cell_type": "code",
   "execution_count": 58,
   "metadata": {
    "colab": {
     "base_uri": "https://localhost:8080/"
    },
    "id": "TX9UbnaN80CW",
    "outputId": "e522dfaa-cf9a-4c7c-e3b1-43b5807684c9"
   },
   "outputs": [
    {
     "data": {
      "text/plain": [
       "[6, 5, 8, 2, 1]"
      ]
     },
     "execution_count": 58,
     "metadata": {},
     "output_type": "execute_result"
    }
   ],
   "source": [
    "l1"
   ]
  },
  {
   "cell_type": "code",
   "execution_count": 59,
   "metadata": {
    "colab": {
     "base_uri": "https://localhost:8080/"
    },
    "id": "UngbNceGb-nA",
    "outputId": "1ff30ee0-65d1-473c-e70c-fa1c8354d94a"
   },
   "outputs": [
    {
     "name": "stdout",
     "output_type": "stream",
     "text": [
      "6\n",
      "5\n",
      "8\n",
      "2\n",
      "1\n"
     ]
    }
   ],
   "source": [
    "#Method 1\n",
    "for i in range(len(l1)):\n",
    "  print(l1[i])"
   ]
  },
  {
   "cell_type": "code",
   "execution_count": 60,
   "metadata": {
    "colab": {
     "base_uri": "https://localhost:8080/"
    },
    "id": "fTZgzsomcHVD",
    "outputId": "236c520f-7bdf-4537-a832-f9e6b29806ab"
   },
   "outputs": [
    {
     "name": "stdout",
     "output_type": "stream",
     "text": [
      "6\n",
      "5\n",
      "8\n",
      "2\n",
      "1\n"
     ]
    }
   ],
   "source": [
    "#Method 2\n",
    "for i in l1:\n",
    "  print(i)"
   ]
  },
  {
   "cell_type": "code",
   "execution_count": 61,
   "metadata": {
    "colab": {
     "base_uri": "https://localhost:8080/"
    },
    "id": "FvH8jKjN-CMF",
    "outputId": "f08afafd-c3ee-4d90-e7d5-028692c26e15"
   },
   "outputs": [
    {
     "name": "stdout",
     "output_type": "stream",
     "text": [
      "22\n"
     ]
    }
   ],
   "source": [
    "# Find the sum of elements in the list\n",
    "sum = 0\n",
    "for i in l1:\n",
    "  sum = sum + i\n",
    "print(sum)"
   ]
  },
  {
   "cell_type": "code",
   "execution_count": 62,
   "metadata": {
    "colab": {
     "base_uri": "https://localhost:8080/"
    },
    "id": "JlHbCBcW-ibH",
    "outputId": "f4088dba-7f9b-4399-8b6e-72c90992b4a0"
   },
   "outputs": [
    {
     "name": "stdout",
     "output_type": "stream",
     "text": [
      "4.4\n"
     ]
    }
   ],
   "source": [
    "# Find the mean(average) of elements in a list\n",
    "sum = 0\n",
    "for i in l1:\n",
    "  sum = sum + i\n",
    "print(sum/len(l1))"
   ]
  },
  {
   "cell_type": "markdown",
   "metadata": {
    "id": "pBiDewf6eE0i"
   },
   "source": [
    "### List Comprehensions"
   ]
  },
  {
   "cell_type": "code",
   "execution_count": 63,
   "metadata": {
    "colab": {
     "base_uri": "https://localhost:8080/"
    },
    "id": "U7ax9WEbeIHP",
    "outputId": "8823b178-0ea3-45f7-d05c-f1e399601252"
   },
   "outputs": [
    {
     "data": {
      "text/plain": [
       "[1, 2, 3, 4, 5, 6, 7, 8, 9, 10]"
      ]
     },
     "execution_count": 63,
     "metadata": {},
     "output_type": "execute_result"
    }
   ],
   "source": [
    "#Creating a list of first 10 elements\n",
    "#method 1\n",
    "l = []\n",
    "for i in range(1,11):\n",
    "  l.append(i)\n",
    "l"
   ]
  },
  {
   "cell_type": "code",
   "execution_count": 64,
   "metadata": {
    "colab": {
     "base_uri": "https://localhost:8080/"
    },
    "id": "gY0TbKLneUHl",
    "outputId": "5559666e-e947-4a81-a57b-732745eb9118"
   },
   "outputs": [
    {
     "data": {
      "text/plain": [
       "[1, 2, 3, 4, 5, 6, 7, 8, 9, 10]"
      ]
     },
     "execution_count": 64,
     "metadata": {},
     "output_type": "execute_result"
    }
   ],
   "source": [
    "#method 2\n",
    "l = list(range(1,11))\n",
    "l"
   ]
  },
  {
   "cell_type": "code",
   "execution_count": 65,
   "metadata": {
    "colab": {
     "base_uri": "https://localhost:8080/"
    },
    "id": "2pzfJh_cA8ls",
    "outputId": "b6ffa4d4-a1ca-41e9-938d-80414ac57a22"
   },
   "outputs": [
    {
     "data": {
      "text/plain": [
       "[1, 2, 3, 4, 5, 6, 7, 8, 9, 10]"
      ]
     },
     "execution_count": 65,
     "metadata": {},
     "output_type": "execute_result"
    }
   ],
   "source": [
    "# Method 3\n",
    "l = [i for i in range(1,11)]\n",
    "l"
   ]
  },
  {
   "cell_type": "code",
   "execution_count": 66,
   "metadata": {
    "colab": {
     "base_uri": "https://localhost:8080/"
    },
    "id": "u-Pu7y7nBkG0",
    "outputId": "98fff59f-0106-4209-b613-e966bde2bec1"
   },
   "outputs": [
    {
     "data": {
      "text/plain": [
       "[False, True, False, True, False, True, False, True, False, True]"
      ]
     },
     "execution_count": 66,
     "metadata": {},
     "output_type": "execute_result"
    }
   ],
   "source": [
    "l = [i%2==0 for i in range(1,11)]\n",
    "l"
   ]
  },
  {
   "cell_type": "markdown",
   "metadata": {
    "id": "YSLTU8HAEQlC"
   },
   "source": [
    "# Tuples"
   ]
  },
  {
   "cell_type": "markdown",
   "metadata": {
    "id": "afA_hhW0hRSV"
   },
   "source": [
    "### How to add elements in tuple?"
   ]
  },
  {
   "cell_type": "code",
   "execution_count": 67,
   "metadata": {
    "colab": {
     "base_uri": "https://localhost:8080/"
    },
    "id": "s45biFvghRSW",
    "outputId": "de0989ec-7a02-4ef7-b239-1194708d8a85"
   },
   "outputs": [
    {
     "data": {
      "text/plain": [
       "()"
      ]
     },
     "execution_count": 67,
     "metadata": {},
     "output_type": "execute_result"
    }
   ],
   "source": [
    "# Empty tuple\n",
    "t = ()\n",
    "t"
   ]
  },
  {
   "cell_type": "code",
   "execution_count": 68,
   "metadata": {
    "colab": {
     "base_uri": "https://localhost:8080/"
    },
    "id": "rB4IEtm1EwMO",
    "outputId": "4ca731d6-d9c9-4828-d475-e9ead190020f"
   },
   "outputs": [
    {
     "data": {
      "text/plain": [
       "tuple"
      ]
     },
     "execution_count": 68,
     "metadata": {},
     "output_type": "execute_result"
    }
   ],
   "source": [
    "type(t)"
   ]
  },
  {
   "cell_type": "code",
   "execution_count": 69,
   "metadata": {
    "colab": {
     "base_uri": "https://localhost:8080/"
    },
    "id": "kn-TJKYTE3SZ",
    "outputId": "2db6445b-2399-4c4b-d4e4-9d26df2aedb2"
   },
   "outputs": [
    {
     "data": {
      "text/plain": [
       "10"
      ]
     },
     "execution_count": 69,
     "metadata": {},
     "output_type": "execute_result"
    }
   ],
   "source": [
    "t = (10)\n",
    "t"
   ]
  },
  {
   "cell_type": "code",
   "execution_count": 70,
   "metadata": {
    "colab": {
     "base_uri": "https://localhost:8080/"
    },
    "id": "6PLs_39WE9rz",
    "outputId": "a87e8d03-7cdd-4ecc-c219-29f9674a4ba9"
   },
   "outputs": [
    {
     "data": {
      "text/plain": [
       "(10,)"
      ]
     },
     "execution_count": 70,
     "metadata": {},
     "output_type": "execute_result"
    }
   ],
   "source": [
    "t = (10,)\n",
    "t"
   ]
  },
  {
   "cell_type": "code",
   "execution_count": 70,
   "metadata": {
    "id": "UDt2QIAIE3QM"
   },
   "outputs": [],
   "source": []
  },
  {
   "cell_type": "markdown",
   "metadata": {
    "id": "RqZi1wD7hRSW"
   },
   "source": [
    "### packing and unpacking"
   ]
  },
  {
   "cell_type": "code",
   "execution_count": 71,
   "metadata": {
    "colab": {
     "base_uri": "https://localhost:8080/"
    },
    "id": "9DU_ASVVhRSW",
    "outputId": "119c97c3-b9a0-46eb-e607-d9ffb336d7a6"
   },
   "outputs": [
    {
     "name": "stdout",
     "output_type": "stream",
     "text": [
      "1 2 3\n",
      "<class 'int'>\n"
     ]
    }
   ],
   "source": [
    "a,b,c = (1,2,3)\n",
    "print(a,b,c)\n",
    "print(type(a))"
   ]
  },
  {
   "cell_type": "code",
   "execution_count": 72,
   "metadata": {
    "colab": {
     "base_uri": "https://localhost:8080/"
    },
    "id": "OgftTqHMhRSW",
    "outputId": "3ede441b-cbb0-4ca1-baa9-9cbcb055dda1"
   },
   "outputs": [
    {
     "name": "stdout",
     "output_type": "stream",
     "text": [
      "1 2 3\n",
      "<class 'str'>\n"
     ]
    }
   ],
   "source": [
    "a,b,c = '123'\n",
    "print(a,b,c)\n",
    "print(type(a))"
   ]
  },
  {
   "cell_type": "code",
   "execution_count": 73,
   "metadata": {
    "colab": {
     "base_uri": "https://localhost:8080/"
    },
    "id": "SxNyauibDLhM",
    "outputId": "e52e6aba-8078-4234-d5b2-9687ab68f266"
   },
   "outputs": [
    {
     "name": "stdout",
     "output_type": "stream",
     "text": [
      "1 2 3\n",
      "<class 'int'>\n"
     ]
    }
   ],
   "source": [
    "a,b,c = [1,2,3]\n",
    "print(a,b,c)\n",
    "print(type(a))"
   ]
  },
  {
   "cell_type": "code",
   "execution_count": 74,
   "metadata": {
    "colab": {
     "base_uri": "https://localhost:8080/",
     "height": 166
    },
    "id": "gb3Vs_ebDUnL",
    "outputId": "bccb94bc-e45a-4d7b-a647-0d13bdbbb353"
   },
   "outputs": [
    {
     "ename": "ValueError",
     "evalue": "ignored",
     "output_type": "error",
     "traceback": [
      "\u001b[0;31m---------------------------------------------------------------------------\u001b[0m",
      "\u001b[0;31mValueError\u001b[0m                                Traceback (most recent call last)",
      "\u001b[0;32m<ipython-input-74-800c660f1e2d>\u001b[0m in \u001b[0;36m<module>\u001b[0;34m()\u001b[0m\n\u001b[0;32m----> 1\u001b[0;31m \u001b[0ma\u001b[0m\u001b[0;34m,\u001b[0m\u001b[0mb\u001b[0m \u001b[0;34m=\u001b[0m \u001b[0;36m1\u001b[0m\u001b[0;34m,\u001b[0m\u001b[0;36m2\u001b[0m\u001b[0;34m,\u001b[0m\u001b[0;36m3\u001b[0m \u001b[0;31m#not allowed\u001b[0m\u001b[0;34m\u001b[0m\u001b[0;34m\u001b[0m\u001b[0m\n\u001b[0m",
      "\u001b[0;31mValueError\u001b[0m: too many values to unpack (expected 2)"
     ]
    }
   ],
   "source": [
    "a,b = 1,2,3 #not allowed"
   ]
  },
  {
   "cell_type": "markdown",
   "metadata": {
    "id": "9yveE8NehRSX"
   },
   "source": [
    "# tuple indexing\n",
    "- we can apply all the list indexing steps on the tuples"
   ]
  },
  {
   "cell_type": "code",
   "execution_count": 75,
   "metadata": {
    "colab": {
     "base_uri": "https://localhost:8080/"
    },
    "id": "Qhc3b2oXhRSX",
    "outputId": "1e82ffcc-25fb-482c-d098-29abc8257a54"
   },
   "outputs": [
    {
     "data": {
      "text/plain": [
       "(2, 3, 'hi', (1, 2))"
      ]
     },
     "execution_count": 75,
     "metadata": {},
     "output_type": "execute_result"
    }
   ],
   "source": [
    "t1 = (2,3,\"hi\",(1,2))\n",
    "t1"
   ]
  },
  {
   "cell_type": "code",
   "execution_count": 76,
   "metadata": {
    "colab": {
     "base_uri": "https://localhost:8080/",
     "height": 35
    },
    "id": "h_JFEZhqhRSX",
    "outputId": "456f7da9-e0e6-41ac-a34a-5165aba99830"
   },
   "outputs": [
    {
     "data": {
      "application/vnd.google.colaboratory.intrinsic+json": {
       "type": "string"
      },
      "text/plain": [
       "'hi'"
      ]
     },
     "execution_count": 76,
     "metadata": {},
     "output_type": "execute_result"
    }
   ],
   "source": [
    "t1[2]"
   ]
  },
  {
   "cell_type": "code",
   "execution_count": 77,
   "metadata": {
    "colab": {
     "base_uri": "https://localhost:8080/"
    },
    "id": "hXoYx4ZIhRSX",
    "outputId": "0c3a6a2d-0aa1-4702-8bf8-fc8ef16d2a84"
   },
   "outputs": [
    {
     "data": {
      "text/plain": [
       "(1, 2)"
      ]
     },
     "execution_count": 77,
     "metadata": {},
     "output_type": "execute_result"
    }
   ],
   "source": [
    "t1[3]"
   ]
  },
  {
   "cell_type": "code",
   "execution_count": 78,
   "metadata": {
    "colab": {
     "base_uri": "https://localhost:8080/",
     "height": 166
    },
    "id": "EYh3JcpThRSX",
    "outputId": "19139a59-b3f1-46b2-91e1-bfbeecacddaa"
   },
   "outputs": [
    {
     "ename": "TypeError",
     "evalue": "ignored",
     "output_type": "error",
     "traceback": [
      "\u001b[0;31m---------------------------------------------------------------------------\u001b[0m",
      "\u001b[0;31mTypeError\u001b[0m                                 Traceback (most recent call last)",
      "\u001b[0;32m<ipython-input-78-7291e01ceabe>\u001b[0m in \u001b[0;36m<module>\u001b[0;34m()\u001b[0m\n\u001b[0;32m----> 1\u001b[0;31m \u001b[0mt1\u001b[0m\u001b[0;34m[\u001b[0m\u001b[0;36m3\u001b[0m\u001b[0;34m]\u001b[0m \u001b[0;34m=\u001b[0m \u001b[0;36m5\u001b[0m \u001b[0;31m#not allowed. Tuples are immutable\u001b[0m\u001b[0;34m\u001b[0m\u001b[0;34m\u001b[0m\u001b[0m\n\u001b[0m",
      "\u001b[0;31mTypeError\u001b[0m: 'tuple' object does not support item assignment"
     ]
    }
   ],
   "source": [
    "t1[3] = 5 #not allowed. Tuples are immutable"
   ]
  },
  {
   "cell_type": "code",
   "execution_count": 79,
   "metadata": {
    "id": "7xeYwYPsZY9o"
   },
   "outputs": [],
   "source": [
    "t1 = (2,3,\"hi\",[1,2])"
   ]
  },
  {
   "cell_type": "code",
   "execution_count": 80,
   "metadata": {
    "colab": {
     "base_uri": "https://localhost:8080/"
    },
    "id": "aGAmRL5HZ3Y0",
    "outputId": "eb688274-d57a-4b7f-8aeb-c189d252c4cb"
   },
   "outputs": [
    {
     "data": {
      "text/plain": [
       "(2, 3, 'hi', [4, 2])"
      ]
     },
     "execution_count": 80,
     "metadata": {},
     "output_type": "execute_result"
    }
   ],
   "source": [
    "t1[3][0]=4\n",
    "t1"
   ]
  },
  {
   "cell_type": "code",
   "execution_count": 81,
   "metadata": {
    "id": "yEapsNGfaAWQ"
   },
   "outputs": [],
   "source": [
    "l1 = [2,3,(1,2)]"
   ]
  },
  {
   "cell_type": "code",
   "execution_count": 82,
   "metadata": {
    "colab": {
     "base_uri": "https://localhost:8080/"
    },
    "id": "xKaLYpetaPHD",
    "outputId": "8c7f0094-23dd-4155-a1c8-3ebd9c8ae012"
   },
   "outputs": [
    {
     "data": {
      "text/plain": [
       "[2, 3, (2, 3)]"
      ]
     },
     "execution_count": 82,
     "metadata": {},
     "output_type": "execute_result"
    }
   ],
   "source": [
    "l1[2] = (2,3)\n",
    "l1"
   ]
  },
  {
   "cell_type": "code",
   "execution_count": 83,
   "metadata": {
    "colab": {
     "base_uri": "https://localhost:8080/",
     "height": 166
    },
    "id": "_HmB_LkPaU8E",
    "outputId": "389b6f89-1eca-44c8-d53c-bed489629b5b"
   },
   "outputs": [
    {
     "ename": "TypeError",
     "evalue": "ignored",
     "output_type": "error",
     "traceback": [
      "\u001b[0;31m---------------------------------------------------------------------------\u001b[0m",
      "\u001b[0;31mTypeError\u001b[0m                                 Traceback (most recent call last)",
      "\u001b[0;32m<ipython-input-83-1aa40cede64b>\u001b[0m in \u001b[0;36m<module>\u001b[0;34m()\u001b[0m\n\u001b[0;32m----> 1\u001b[0;31m \u001b[0ml1\u001b[0m\u001b[0;34m[\u001b[0m\u001b[0;36m2\u001b[0m\u001b[0;34m]\u001b[0m\u001b[0;34m[\u001b[0m\u001b[0;36m0\u001b[0m\u001b[0;34m]\u001b[0m\u001b[0;34m=\u001b[0m\u001b[0;36m5\u001b[0m\u001b[0;34m\u001b[0m\u001b[0;34m\u001b[0m\u001b[0m\n\u001b[0m",
      "\u001b[0;31mTypeError\u001b[0m: 'tuple' object does not support item assignment"
     ]
    }
   ],
   "source": [
    "l1[2][0]=5"
   ]
  },
  {
   "cell_type": "markdown",
   "metadata": {
    "id": "yReKmzF0bdeS"
   },
   "source": [
    "### Iterating over tuples"
   ]
  },
  {
   "cell_type": "code",
   "execution_count": 84,
   "metadata": {
    "colab": {
     "base_uri": "https://localhost:8080/"
    },
    "id": "aCv-uZBTancu",
    "outputId": "295676da-a64b-4c75-a7ca-775533b0d28b"
   },
   "outputs": [
    {
     "name": "stdout",
     "output_type": "stream",
     "text": [
      "2\n",
      "3\n",
      "hi\n",
      "[4, 2]\n"
     ]
    }
   ],
   "source": [
    "# Iterating over a tuple\n",
    "for i in t1:\n",
    "  print(i)"
   ]
  },
  {
   "cell_type": "code",
   "execution_count": 85,
   "metadata": {
    "colab": {
     "base_uri": "https://localhost:8080/"
    },
    "id": "UQI01PtyaYEv",
    "outputId": "2edaaf45-66ad-418d-d8c4-0a1f49c64360"
   },
   "outputs": [
    {
     "name": "stdout",
     "output_type": "stream",
     "text": [
      "2\n",
      "3\n",
      "hi\n",
      "[4, 2]\n"
     ]
    }
   ],
   "source": [
    "for i in range(len(t1)):\n",
    "  print(t1[i])"
   ]
  },
  {
   "cell_type": "markdown",
   "metadata": {
    "id": "Jkr4y8nVbicB"
   },
   "source": [
    "### Practice problems"
   ]
  },
  {
   "cell_type": "code",
   "execution_count": 86,
   "metadata": {
    "colab": {
     "base_uri": "https://localhost:8080/"
    },
    "id": "sEsD58j5bbjZ",
    "outputId": "cfc73929-a3d6-4508-a501-d8e613b8e9f3"
   },
   "outputs": [
    {
     "data": {
      "text/plain": [
       "2.23606797749979"
      ]
     },
     "execution_count": 86,
     "metadata": {},
     "output_type": "execute_result"
    }
   ],
   "source": [
    "# Given two points, find the distance\n",
    "t1 = (2,3)\n",
    "t2 = (3,5)\n",
    "dist_squared = (t2[0] - t1[0])**2 + (t2[1]-t1[1])**2\n",
    "dist = dist_squared**0.5\n",
    "dist"
   ]
  },
  {
   "cell_type": "code",
   "execution_count": 87,
   "metadata": {
    "colab": {
     "base_uri": "https://localhost:8080/"
    },
    "id": "-7x4MwBscWQU",
    "outputId": "4b4a6b26-dbe1-40d0-cab4-a260032a4226"
   },
   "outputs": [
    {
     "data": {
      "text/plain": [
       "2.0"
      ]
     },
     "execution_count": 87,
     "metadata": {},
     "output_type": "execute_result"
    }
   ],
   "source": [
    "# Calculate the slope of a line passing through two points\n",
    "slope = (t2[1] - t1[1])/(t2[0]-t1[0])\n",
    "slope"
   ]
  },
  {
   "cell_type": "code",
   "execution_count": 87,
   "metadata": {
    "id": "Ep7gqMpWidl6"
   },
   "outputs": [],
   "source": []
  }
 ],
 "metadata": {
  "colab": {
   "collapsed_sections": [
    "2ZgDK6snhRSN",
    "A4WJDoeHhRSO",
    "YUPwDeTbhRSP",
    "YKQB5hTihRSQ",
    "W0ESxs-PhRSR",
    "dAz9QL0khRSR",
    "ey6LYtTfhRSR",
    "fLQsfweJhRSS",
    "pGv7iy08hRST",
    "tb-kuqaphRST",
    "NQ2JPWlYhRST",
    "xW0MkorrhRSU",
    "sRLdKKUBhRSV",
    "afA_hhW0hRSV",
    "RqZi1wD7hRSW"
   ],
   "name": "Lists_and_Tuples_130.ipynb",
   "provenance": []
  },
  "kernelspec": {
   "display_name": "Python 3 (ipykernel)",
   "language": "python",
   "name": "python3"
  },
  "language_info": {
   "codemirror_mode": {
    "name": "ipython",
    "version": 3
   },
   "file_extension": ".py",
   "mimetype": "text/x-python",
   "name": "python",
   "nbconvert_exporter": "python",
   "pygments_lexer": "ipython3",
   "version": "3.9.7"
  }
 },
 "nbformat": 4,
 "nbformat_minor": 1
}
